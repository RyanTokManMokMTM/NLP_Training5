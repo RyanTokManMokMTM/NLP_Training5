{
  "nbformat": 4,
  "nbformat_minor": 0,
  "metadata": {
    "colab": {
      "name": "translation.ipynb",
      "provenance": [],
      "authorship_tag": "ABX9TyPKP7/eVbCFTrEVhYlx1rgk",
      "include_colab_link": true
    },
    "kernelspec": {
      "name": "python3",
      "display_name": "Python 3"
    },
    "language_info": {
      "name": "python"
    }
  },
  "cells": [
    {
      "cell_type": "markdown",
      "metadata": {
        "id": "view-in-github",
        "colab_type": "text"
      },
      "source": [
        "<a href=\"https://colab.research.google.com/github/RyanTokManMokMTM/NLP_Training5/blob/main/translation.ipynb\" target=\"_parent\"><img src=\"https://colab.research.google.com/assets/colab-badge.svg\" alt=\"Open In Colab\"/></a>"
      ]
    },
    {
      "cell_type": "code",
      "metadata": {
        "id": "ahSWSl3eKKXa",
        "outputId": "21fe6fa2-9c27-49d2-dd65-3f6e33cd1f30",
        "colab": {
          "base_uri": "https://localhost:8080/"
        }
      },
      "source": [
        "#install package\n",
        "!pip install opencc"
      ],
      "execution_count": 3,
      "outputs": [
        {
          "output_type": "stream",
          "text": [
            "Collecting opencc\n",
            "  Downloading OpenCC-1.1.2-cp37-cp37m-manylinux1_x86_64.whl (765 kB)\n",
            "\u001b[K     |████████████████████████████████| 765 kB 4.1 MB/s \n",
            "\u001b[?25hInstalling collected packages: opencc\n",
            "Successfully installed opencc-1.1.2\n"
          ],
          "name": "stdout"
        }
      ]
    },
    {
      "cell_type": "code",
      "metadata": {
        "colab": {
          "base_uri": "https://localhost:8080/"
        },
        "id": "RPS3wst0OjMv",
        "outputId": "ebcf0839-f2e9-424b-e888-345bffa9b4bf"
      },
      "source": [
        "from google.colab import drive\n",
        "drive.mount(\"gdrive\")"
      ],
      "execution_count": 1,
      "outputs": [
        {
          "output_type": "stream",
          "text": [
            "Mounted at gdrive\n"
          ],
          "name": "stdout"
        }
      ]
    },
    {
      "cell_type": "code",
      "metadata": {
        "colab": {
          "base_uri": "https://localhost:8080/"
        },
        "id": "hkF9KiaYVacP",
        "outputId": "e7d30220-346e-4367-d7bf-873f2fa61d4d"
      },
      "source": [
        "!unzip /content/gdrive/MyDrive/translation2019zh.zip"
      ],
      "execution_count": 6,
      "outputs": [
        {
          "output_type": "stream",
          "text": [
            "Archive:  /content/gdrive/MyDrive/translation2019zh.zip\n",
            "  inflating: translation2019zh_train.json  \n",
            "  inflating: translation2019zh_valid.json  \n"
          ],
          "name": "stdout"
        }
      ]
    },
    {
      "cell_type": "markdown",
      "metadata": {
        "id": "P__VVu6haZIC"
      },
      "source": [
        "# read json"
      ]
    },
    {
      "cell_type": "code",
      "metadata": {
        "id": "HZW3WNYjJ51q"
      },
      "source": [
        "def is_chinese(strs):\n",
        "    '''USED FOR CHECKING ENGLISH material incude chinese'''\n",
        "    for _char in strs:\n",
        "        if '\\u4e00' <= _char <= '\\u9fa5':\n",
        "            return True\n",
        "    return False\n",
        "\n",
        "def loadJson():\n"
      ],
      "execution_count": null,
      "outputs": []
    },
    {
      "cell_type": "code",
      "metadata": {
        "id": "gVuzOe2_J1QI"
      },
      "source": [
        "def is_chinese(strs):\n",
        "    for _char in strs:\n",
        "        if '\\u4e00' <= _char <= '\\u9fa5':\n",
        "            return True\n",
        "    return False"
      ],
      "execution_count": 4,
      "outputs": []
    },
    {
      "cell_type": "code",
      "metadata": {
        "id": "czqc_pYvO497"
      },
      "source": [
        "import string\n",
        "str_1 = \"ü\"\n",
        "punc = string.punctuation\n",
        "if str_1 in punc:\n",
        "    print('is punctuation')\n",
        "\n",
        "#  'ö',\n",
        "#  'ü',\n",
        "#  '–',\n",
        "#  '—',\n",
        "#  '‘',\n",
        "#  '’',\n",
        "#  '“',\n",
        "#  '”',\n",
        "#  '…',\n",
        "#  '℃',\n",
        "#  '。',\n",
        "#  '，'}\n"
      ],
      "execution_count": 26,
      "outputs": []
    },
    {
      "cell_type": "code",
      "metadata": {
        "id": "6azpMrgta0mz"
      },
      "source": [
        "import json\n",
        "import opencc\n",
        "import re\n",
        "train_data = []\n",
        "\n",
        "x=0\n",
        "chineseCc = opencc.OpenCC('s2hk.json')\n",
        "with open(\"translation2019zh_train.json\",newline=\"\") as js:\n",
        "  for i in js:\n",
        "    data = json.loads(i)\n",
        "    if is_chinese(data['english']):\n",
        "      continue\n",
        "    data[\"chinese\"] = chineseCc.convert(data[\"chinese\"])\n",
        "    train_data.append(data)\n",
        "    if(x==1000):\n",
        "      break\n",
        "    x+=1\n",
        "  js.close()"
      ],
      "execution_count": 18,
      "outputs": []
    },
    {
      "cell_type": "code",
      "metadata": {
        "id": "oGW0o4M4Vat_"
      },
      "source": [
        "txt_list = []\n",
        "\n",
        "for data in train_data:\n",
        "  strs = \"%s\\t%s\"%(data[\"english\"],data[\"chinese\"])\n",
        "  txt_list.append(\"%s\\t%s\"%(data[\"english\"],data[\"chinese\"]))"
      ],
      "execution_count": 41,
      "outputs": []
    },
    {
      "cell_type": "code",
      "metadata": {
        "id": "zRuquMZgQ93h"
      },
      "source": [
        "#wirte file to txt\n",
        "with open(\"engChinese.txt\",\"w\",encoding=\"utf-8\") as f:\n",
        "  for data in txt_list:\n",
        "    f.write(data)\n",
        "    f.write(\"\\n\")"
      ],
      "execution_count": 39,
      "outputs": []
    },
    {
      "cell_type": "markdown",
      "metadata": {
        "id": "b1KY8N1AP5nA"
      },
      "source": [
        "# Creating the model :Seq2Seq"
      ]
    },
    {
      "cell_type": "code",
      "metadata": {
        "id": "Mb9ymTNlP845"
      },
      "source": [
        "from keras.models import Model\n",
        "from keras.layers import Input, LSTM,Dense\n",
        "import numpy as np\n",
        "\n",
        "BATCH_SIZE = 64\n",
        "EPOCHS = 200\n",
        "LATENT_DIM = 256\n",
        "NUM_SAMPLES = 1000 \n",
        "#traning setting\n",
        "\n",
        "file_path = \"engChinese.txt\""
      ],
      "execution_count": 84,
      "outputs": []
    },
    {
      "cell_type": "code",
      "metadata": {
        "id": "6fA8qcsOS0AO"
      },
      "source": [
        "#Vetorize data\n",
        "input_texts = []\n",
        "target_texts = []\n",
        "input_chars = set()\n",
        "target_chars = set()\n",
        "\n",
        "with open(file_path,\"r\",encoding=\"utf-8\") as f:\n",
        "  lines = f.read().split(\"\\n\") #each line is split by \\n\n",
        "  for line in lines[:min(NUM_SAMPLES,len(lines)-1)]: #num_spaces or line is larger,else will out of range\n",
        "    input_text, target_text = line.split(\"\\t\") #left side of \\t is end ,right side is chinese\n",
        "    \n",
        "    #each chinese texts need to add \\t at the begining and \\n at the end of the text\n",
        "    target_text = \"\\t\" + target_text +\"\\n\"\n",
        "\n",
        "    #add to input and target list\n",
        "    input_texts.append(input_text)\n",
        "    target_texts.append(target_text)\n",
        "\n",
        "    #loopping the text to get all chars and make one-hot encoding later\n",
        "    for char in input_text: #for english\n",
        "      if char not in input_chars:\n",
        "        input_chars.add(char)\n",
        "\n",
        "    for char in target_text: # for chinese\n",
        "      if char not in target_chars:\n",
        "        target_chars.add(char)\n"
      ],
      "execution_count": 46,
      "outputs": []
    },
    {
      "cell_type": "code",
      "metadata": {
        "id": "zxOUHw5wUynq",
        "outputId": "573d2ab0-b280-4f53-d8cf-6754760285e9",
        "colab": {
          "base_uri": "https://localhost:8080/"
        }
      },
      "source": [
        "#handling the data to generate some required info\n",
        "# sorting the chars \n",
        "input_chars = sorted(list(input_chars)) # according to Unicode\n",
        "target_chars = sorted(list(target_chars)) # according to Unicode\n",
        "\n",
        "#total chars of input and target\n",
        "num_encoder_tokens = len(input_chars)\n",
        "num_decoder_tokens = len(target_chars)\n",
        "\n",
        "#the maxinums sentance of input and target\n",
        "max_encoder_seq_length = max([len(txt) for txt in input_texts])\n",
        "max_decoder_seq_length = max([len(txt) for txt in target_texts])\n",
        "\n",
        "#log out the message for those info\n",
        "print(\"Num of sample\",len(input_texts))\n",
        "print(\"Num of unique input token\",num_encoder_tokens)\n",
        "print(\"Num of unique output token\",num_decoder_tokens)\n",
        "print(\"Max seq length of inputs\",max_encoder_seq_length)\n",
        "print(\"Max seq length of output\",max_decoder_seq_length)"
      ],
      "execution_count": 66,
      "outputs": [
        {
          "output_type": "stream",
          "text": [
            "Num of sample 1000\n",
            "Num of unique input token 100\n",
            "Num of unique output token 2458\n",
            "Max seq length of inputs 232\n",
            "Max seq length of output 119\n"
          ],
          "name": "stdout"
        }
      ]
    },
    {
      "cell_type": "code",
      "metadata": {
        "id": "S8nbiulnWpre"
      },
      "source": [
        "#Creating Encoder-LSTM\n",
        "\n",
        "#make each chars has an index\n",
        "input_token_index = dict([(char , i) for i ,char in enumerate(input_chars)]) # english token with index\n",
        "target_token_index = dict([(char , i) for i ,char in enumerate(target_chars)]) # chinese token with index\n",
        "\n",
        "#Need 3 array with 3-dimension(num_simple,max_seq_text,total_token)\n",
        "#Encoder-input,Decoder-input,Decoder-output\n",
        "encoder_input_data = np.zeros(\n",
        "    (len(input_texts),max_encoder_seq_length,num_encoder_tokens), #shape-3d\n",
        "    dtype=np.float32 #type float32\n",
        ")\n",
        "\n",
        "decoder_input_data = np.zeros(\n",
        "    (len(input_texts),max_decoder_seq_length,num_decoder_tokens), #shape-3d\n",
        "    dtype=np.float32 #type float32\n",
        ")\n",
        "\n",
        "decoder_output_data = np.zeros(\n",
        "    (len(input_texts),max_decoder_seq_length,num_decoder_tokens), #shape-3d\n",
        "    dtype=np.float32 #type float32\n",
        ")\n",
        "\n",
        "#zip eng sentance and chinese sentance(eng[0]Chinese[0],eng[1]Chinese[1]...etc)\n",
        "for i,(input_text,target_text) in enumerate(zip(input_texts,target_texts)):\n",
        "  #print(i,(input_text,target_text))\n",
        "  for t,char in enumerate(input_text):\n",
        "    #change the array of input data =>i:x,t:y,token:z to 1 = only set z-index to 1\n",
        "    encoder_input_data[i,t,input_token_index[char]] = 1\n",
        "  for t,char in enumerate(target_text):\n",
        "    #chagne the array of target data\n",
        "    #decoder_target_data is ahead decoder_input_data by one timestemp\n",
        "    decoder_input_data[i,t,target_token_index[char]] = 1\n",
        "    if t > 0:\n",
        "      #only affect t > 0 character\n",
        "      decoder_output_data[i,t-1,target_token_index[char]] = 1"
      ],
      "execution_count": 74,
      "outputs": []
    },
    {
      "cell_type": "markdown",
      "metadata": {
        "id": "_HZP3I3yjBcm"
      },
      "source": [
        "# Encoder"
      ]
    },
    {
      "cell_type": "code",
      "metadata": {
        "id": "_ESTKbm-neIz"
      },
      "source": [
        "#Define input tensor\n",
        "encoder_inputs = Input(shape=(None,num_encoder_tokens)) #Shape 1*num_encoder_tokens\n",
        "\n",
        "#encoder LSTM with units = 256 and return the last state\n",
        "encoder_lstm = LSTM((LATENT_DIM),return_state=True)\n",
        "\n",
        "#output of encoder lstm tensor,return state history and state current\n",
        "encoder_outputs,state_h,state_c = encoder_lstm(encoder_inputs)\n",
        "\n",
        "#keep states only\n",
        "encoder_states = [state_h,state_c]"
      ],
      "execution_count": 78,
      "outputs": []
    },
    {
      "cell_type": "markdown",
      "metadata": {
        "id": "tdpZ4X8yo0WC"
      },
      "source": [
        "# Decoder"
      ]
    },
    {
      "cell_type": "code",
      "metadata": {
        "id": "IOKC6JFMo2ZS"
      },
      "source": [
        "#need encoder states as decoder input\n",
        "#define decoder lstm and tensor\n",
        "decoder_inputs = Input(shape=(None,num_decoder_tokens)) #shape 1*num_decoder_tokens\n",
        "\n",
        "#decoder_lstm ,set return everything\n",
        "decoder_lstm = LSTM((LATENT_DIM),return_state=True,return_sequences=True)\n",
        "\n",
        "#igore the internal state\n",
        "decoder_outputs,_,_ = decoder_lstm(decoder_inputs)\n"
      ],
      "execution_count": 79,
      "outputs": []
    },
    {
      "cell_type": "code",
      "metadata": {
        "id": "N5-Q_HOffG2R"
      },
      "source": [
        "#creating the Dense for full connected layer\n",
        "decoder_dense = Dense(num_decoder_tokens,activation=\"softmax\") #num_decoder_tokens * 1\n",
        "\n",
        "decoder_outputs = decoder_dense(decoder_outputs) #passing lstm output to decoder dense"
      ],
      "execution_count": 80,
      "outputs": []
    },
    {
      "cell_type": "code",
      "metadata": {
        "id": "fwv-sVIwfgu4",
        "outputId": "e58ddcec-3676-4465-e60e-21a11e75e4c6",
        "colab": {
          "base_uri": "https://localhost:8080/"
        }
      },
      "source": [
        "#Define the model\n",
        "#input encoder input data and decoder input data and return decoder output data\n",
        "model = Model([encoder_inputs,decoder_inputs],decoder_outputs)\n",
        "\n",
        "#Run traning and complie the model\n",
        "model.compile(optimizer=\"rmsprop\",loss=\"categorical_crossentropy\")\n",
        "\n",
        "#fit data to model and training\n",
        "model.fit([encoder_input_data,decoder_input_data],decoder_output_data,batch_size=BATCH_SIZE,epochs=EPOCHS,validation_split=0.2)\n",
        "\n",
        "#save our model\n",
        "model.save(\"seq2seq.h5\")"
      ],
      "execution_count": null,
      "outputs": [
        {
          "output_type": "stream",
          "text": [
            "Epoch 1/200\n",
            "13/13 [==============================] - 39s 3s/step - loss: 2.2307 - val_loss: 2.1191\n",
            "Epoch 2/200\n",
            "13/13 [==============================] - 35s 3s/step - loss: 2.1114 - val_loss: 2.1015\n",
            "Epoch 3/200\n",
            "13/13 [==============================] - 35s 3s/step - loss: 2.0960 - val_loss: 2.0936\n",
            "Epoch 4/200\n",
            "13/13 [==============================] - 35s 3s/step - loss: 2.0877 - val_loss: 2.0870\n",
            "Epoch 5/200\n",
            "13/13 [==============================] - 35s 3s/step - loss: 2.0808 - val_loss: 2.0805\n",
            "Epoch 6/200\n",
            "13/13 [==============================] - 35s 3s/step - loss: 2.0761 - val_loss: 2.0783\n",
            "Epoch 7/200\n",
            "13/13 [==============================] - 35s 3s/step - loss: 2.0720 - val_loss: 2.0733\n",
            "Epoch 8/200\n",
            "13/13 [==============================] - 35s 3s/step - loss: 2.0683 - val_loss: 2.0724\n",
            "Epoch 9/200\n",
            "13/13 [==============================] - 35s 3s/step - loss: 2.0658 - val_loss: 2.0713\n",
            "Epoch 10/200\n",
            "13/13 [==============================] - 35s 3s/step - loss: 2.0642 - val_loss: 2.0707\n",
            "Epoch 11/200\n",
            "13/13 [==============================] - 35s 3s/step - loss: 2.0633 - val_loss: 2.0657\n",
            "Epoch 12/200\n",
            "13/13 [==============================] - 35s 3s/step - loss: 2.0610 - val_loss: 2.0685\n",
            "Epoch 13/200\n",
            "13/13 [==============================] - 35s 3s/step - loss: 2.0600 - val_loss: 2.0685\n",
            "Epoch 14/200\n",
            "13/13 [==============================] - 35s 3s/step - loss: 2.0602 - val_loss: 2.0678\n",
            "Epoch 15/200\n",
            "13/13 [==============================] - 35s 3s/step - loss: 2.0587 - val_loss: 2.0692\n",
            "Epoch 16/200\n",
            "13/13 [==============================] - 35s 3s/step - loss: 2.0583 - val_loss: 2.0685\n",
            "Epoch 17/200\n",
            "13/13 [==============================] - 35s 3s/step - loss: 2.0576 - val_loss: 2.0678\n",
            "Epoch 18/200\n",
            "13/13 [==============================] - 35s 3s/step - loss: 2.0574 - val_loss: 2.0687\n",
            "Epoch 19/200\n",
            "13/13 [==============================] - 35s 3s/step - loss: 2.0566 - val_loss: 2.0671\n",
            "Epoch 20/200\n",
            "13/13 [==============================] - 35s 3s/step - loss: 2.0560 - val_loss: 2.0668\n",
            "Epoch 21/200\n",
            "13/13 [==============================] - 36s 3s/step - loss: 2.0552 - val_loss: 2.0719\n",
            "Epoch 22/200\n",
            "13/13 [==============================] - 35s 3s/step - loss: 2.0559 - val_loss: 2.0704\n",
            "Epoch 23/200\n",
            "13/13 [==============================] - 35s 3s/step - loss: 2.0552 - val_loss: 2.0691\n",
            "Epoch 24/200\n",
            "13/13 [==============================] - 35s 3s/step - loss: 2.0545 - val_loss: 2.0706\n",
            "Epoch 25/200\n",
            "13/13 [==============================] - 35s 3s/step - loss: 2.0552 - val_loss: 2.0714\n",
            "Epoch 26/200\n",
            "13/13 [==============================] - 35s 3s/step - loss: 2.0553 - val_loss: 2.0679\n",
            "Epoch 27/200\n",
            "13/13 [==============================] - 35s 3s/step - loss: 2.0545 - val_loss: 2.0723\n",
            "Epoch 28/200\n",
            "13/13 [==============================] - 35s 3s/step - loss: 2.0545 - val_loss: 2.0716\n",
            "Epoch 29/200\n",
            "13/13 [==============================] - 35s 3s/step - loss: 2.0540 - val_loss: 2.0691\n",
            "Epoch 30/200\n",
            "13/13 [==============================] - 35s 3s/step - loss: 2.0530 - val_loss: 2.0720\n",
            "Epoch 31/200\n",
            "13/13 [==============================] - 35s 3s/step - loss: 2.0532 - val_loss: 2.0743\n",
            "Epoch 32/200\n",
            "11/13 [========================>.....] - ETA: 5s - loss: 2.0544"
          ],
          "name": "stdout"
        }
      ]
    },
    {
      "cell_type": "markdown",
      "metadata": {
        "id": "w8ntTSsDfGH5"
      },
      "source": [
        ""
      ]
    },
    {
      "cell_type": "code",
      "metadata": {
        "id": "xMq5mD7Pp81J",
        "colab": {
          "base_uri": "https://localhost:8080/"
        },
        "outputId": "aed16e1c-157d-45c0-e225-776d0ca00daa"
      },
      "source": [
        "#compile the model\n",
        "model.compile(optimizer=\"rmsprop\",loss=\"categorical_crossentropy\")\n",
        "\n",
        "#model optimizsm\n",
        "model.fit([encoder_input_dt,decoder_input_dt],decoder_output_dt,batch_size=64,epochs=100,validation_split=0.2)\n",
        "\n",
        "#save model\n",
        "model.save(\"seq2seq.h5\")"
      ],
      "execution_count": null,
      "outputs": [
        {
          "output_type": "stream",
          "text": [
            "Epoch 1/100\n",
            "2/2 [==============================] - 39s 15s/step - loss: 0.0000e+00 - val_loss: 0.0000e+00\n",
            "Epoch 2/100\n",
            "2/2 [==============================] - 33s 14s/step - loss: 0.0000e+00 - val_loss: 0.0000e+00\n",
            "Epoch 3/100\n",
            "2/2 [==============================] - 33s 14s/step - loss: 0.0000e+00 - val_loss: 0.0000e+00\n",
            "Epoch 4/100\n",
            "2/2 [==============================] - 32s 13s/step - loss: 0.0000e+00 - val_loss: 0.0000e+00\n",
            "Epoch 5/100\n",
            "2/2 [==============================] - 32s 14s/step - loss: 0.0000e+00 - val_loss: 0.0000e+00\n",
            "Epoch 6/100\n",
            "2/2 [==============================] - 32s 13s/step - loss: 0.0000e+00 - val_loss: 0.0000e+00\n",
            "Epoch 7/100\n",
            "2/2 [==============================] - 32s 14s/step - loss: 0.0000e+00 - val_loss: 0.0000e+00\n",
            "Epoch 8/100\n",
            "2/2 [==============================] - 32s 13s/step - loss: 0.0000e+00 - val_loss: 0.0000e+00\n",
            "Epoch 9/100\n"
          ],
          "name": "stdout"
        }
      ]
    }
  ]
}