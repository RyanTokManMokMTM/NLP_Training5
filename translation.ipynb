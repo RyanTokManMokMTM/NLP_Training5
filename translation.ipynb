{
  "nbformat": 4,
  "nbformat_minor": 0,
  "metadata": {
    "colab": {
      "name": "translation.ipynb",
      "provenance": [],
      "authorship_tag": "ABX9TyPEOpXNK517XDFcB7wqr1jA",
      "include_colab_link": true
    },
    "kernelspec": {
      "name": "python3",
      "display_name": "Python 3"
    },
    "language_info": {
      "name": "python"
    },
    "accelerator": "GPU"
  },
  "cells": [
    {
      "cell_type": "markdown",
      "metadata": {
        "id": "view-in-github",
        "colab_type": "text"
      },
      "source": [
        "<a href=\"https://colab.research.google.com/github/RyanTokManMokMTM/NLP_Training5/blob/main/translation.ipynb\" target=\"_parent\"><img src=\"https://colab.research.google.com/assets/colab-badge.svg\" alt=\"Open In Colab\"/></a>"
      ]
    },
    {
      "cell_type": "code",
      "metadata": {
        "id": "ahSWSl3eKKXa",
        "colab": {
          "base_uri": "https://localhost:8080/"
        },
        "outputId": "68861c2b-5bd7-4d0f-dbd0-b7e7b6344a9f"
      },
      "source": [
        "#install package\n",
        "!pip install opencc"
      ],
      "execution_count": 1,
      "outputs": [
        {
          "output_type": "stream",
          "text": [
            "Requirement already satisfied: opencc in /usr/local/lib/python3.7/dist-packages (1.1.2)\n"
          ],
          "name": "stdout"
        }
      ]
    },
    {
      "cell_type": "code",
      "metadata": {
        "colab": {
          "base_uri": "https://localhost:8080/"
        },
        "id": "RPS3wst0OjMv",
        "outputId": "bb937231-65e6-4af3-a805-c6444df8f2ca"
      },
      "source": [
        "from google.colab import drive\n",
        "drive.mount(\"gdrive\")"
      ],
      "execution_count": 2,
      "outputs": [
        {
          "output_type": "stream",
          "text": [
            "Drive already mounted at gdrive; to attempt to forcibly remount, call drive.mount(\"gdrive\", force_remount=True).\n"
          ],
          "name": "stdout"
        }
      ]
    },
    {
      "cell_type": "code",
      "metadata": {
        "colab": {
          "base_uri": "https://localhost:8080/"
        },
        "id": "hkF9KiaYVacP",
        "outputId": "4b4b5a1a-7c69-42b4-a4c2-52e0f1ccc6cd"
      },
      "source": [
        "!unzip /content/gdrive/MyDrive/translation2019zh.zip"
      ],
      "execution_count": 3,
      "outputs": [
        {
          "output_type": "stream",
          "text": [
            "Archive:  /content/gdrive/MyDrive/translation2019zh.zip\n",
            "replace translation2019zh_train.json? [y]es, [n]o, [A]ll, [N]one, [r]ename: n\n",
            "replace translation2019zh_valid.json? [y]es, [n]o, [A]ll, [N]one, [r]ename: n\n"
          ],
          "name": "stdout"
        }
      ]
    },
    {
      "cell_type": "markdown",
      "metadata": {
        "id": "P__VVu6haZIC"
      },
      "source": [
        "# read json"
      ]
    },
    {
      "cell_type": "code",
      "metadata": {
        "id": "6azpMrgta0mz"
      },
      "source": [
        "import json\n",
        "import opencc\n",
        "\n",
        "def readData(jsonPath):\n",
        "  datas = []\n",
        "  chineseCc = opencc.OpenCC('s2hk.json')\n",
        "  with open(jsonPath,newline=\"\") as js:\n",
        "    for i in js:\n",
        "      data = json.loads(i)\n",
        "      if data[\"english\"].isascii() == False:\n",
        "        continue\n",
        "      if len(data[\"english\"].strip()) > 25:\n",
        "        continue\n",
        "      if len(data[\"chinese\"].strip()) > 8:\n",
        "        continue\n",
        "      data[\"english\"] = data[\"english\"].replace(\"\\\\\",\"\").strip()\n",
        "      data[\"chinese\"] = chineseCc.convert(data[\"chinese\"]).strip()\n",
        "      datas.append(data)\n",
        "    js.close()\n",
        "  return datas"
      ],
      "execution_count": 4,
      "outputs": []
    },
    {
      "cell_type": "code",
      "metadata": {
        "id": "oGW0o4M4Vat_"
      },
      "source": [
        "def exportDataWithFormat(dataList):\n",
        "  txt_list = []\n",
        "  for data in dataList:\n",
        "    strs = \"%s\\t%s\"%(data[\"english\"],data[\"chinese\"])\n",
        "    txt_list.append(\"%s\\t%s\"%(data[\"english\"],data[\"chinese\"]))\n",
        "  return txt_list\n",
        "\n",
        "def writeTotxt(txtList,filePath):\n",
        "  #wirte file to txt\n",
        "  with open(filePath,\"w\",encoding=\"utf-8\") as f:\n",
        "    for data in txt_list:\n",
        "      f.write(data)\n",
        "      f.write(\"\\n\")\n",
        "    f.close()"
      ],
      "execution_count": 5,
      "outputs": []
    },
    {
      "cell_type": "code",
      "metadata": {
        "id": "lAJURmvtWuYq"
      },
      "source": [
        "def readFormatTextToList(filePath):\n",
        "  input_texts = []\n",
        "  target_texts = []\n",
        "  input_chars = set()\n",
        "  target_chars = set()\n",
        "  with open(filePath,\"r\",encoding=\"utf-8\") as f:\n",
        "    lines = f.read().split(\"\\n\") #each line is split by \\n\n",
        "    for line in lines[:min(NUM_SAMPLES,len(lines)-1)]: #num_spaces or line is larger,else will out of range\n",
        "      input_text, target_text = line.split(\"\\t\") #left side of \\t is end ,right side is chinese\n",
        "      \n",
        "      #each chinese texts need to add \\t at the begining and \\n at the end of the text\n",
        "      target_text = \"\\t\" + target_text +\"\\n\"\n",
        "\n",
        "      #add to input and target list\n",
        "      input_texts.append(input_text)\n",
        "      target_texts.append(target_text)\n",
        "\n",
        "      #loopping the text to get all chars and make one-hot encoding later\n",
        "      for char in input_text: #for english\n",
        "        if char not in input_chars:\n",
        "          input_chars.add(char)\n",
        "\n",
        "      for char in target_text: # for chinese\n",
        "        if char not in target_chars:\n",
        "          target_chars.add(char)\n",
        "    f.close\n",
        "    return input_texts,target_texts,input_chars,target_chars"
      ],
      "execution_count": 6,
      "outputs": []
    },
    {
      "cell_type": "code",
      "metadata": {
        "id": "HFLACEYv1GTz"
      },
      "source": [
        "train_data = readData(\"translation2019zh_train.json\")\n",
        "txt_list = exportDataWithFormat(train_data)\n",
        "writeTotxt(txt_list,\"engChinese.txt\")"
      ],
      "execution_count": 7,
      "outputs": []
    },
    {
      "cell_type": "markdown",
      "metadata": {
        "id": "b1KY8N1AP5nA"
      },
      "source": [
        "# Creating the model :Seq2Seq"
      ]
    },
    {
      "cell_type": "code",
      "metadata": {
        "id": "QfYu8E7j2x6Q"
      },
      "source": [
        "from keras.models import Model,load_model\n",
        "from keras.layers import Input, LSTM,Dense\n",
        "import numpy as np\n",
        "\n",
        "BATCH_SIZE = 256\n",
        "EPOCHS = 100\n",
        "LATENT_DIM = 256\n",
        "NUM_SAMPLES = 10000\n",
        "#traning setting\n",
        "file_path = \"engChinese.txt\"\n",
        "#Vetorize data\n",
        "input_texts = []\n",
        "target_texts = []\n",
        "input_chars = set()\n",
        "target_chars = set()\n",
        "\n",
        "input_texts,target_texts,input_chars,target_chars = readFormatTextToList(file_path)\n",
        "\n",
        "#handling the data to generate some required info\n",
        "# sorting the chars \n",
        "input_chars = sorted(list(input_chars)) # according to Unicode\n",
        "target_chars = sorted(list(target_chars)) # according to Unicode\n",
        "\n",
        "#total chars of input and target\n",
        "num_encoder_tokens = len(input_chars)\n",
        "num_decoder_tokens = len(target_chars)\n",
        "\n",
        "#the maxinums sentance of input and target\n",
        "max_encoder_seq_length = max([len(txt) for txt in input_texts])\n",
        "max_decoder_seq_length = max([len(txt) for txt in target_texts])\n",
        "\n",
        "#Creating Encoder-LSTM\n",
        "#make each chars has an index\n",
        "input_token_index = dict([(char , i) for i ,char in enumerate(input_chars)]) # english token with index\n",
        "target_token_index = dict([(char , i) for i ,char in enumerate(target_chars)]) # chinese token with index\n",
        "#reverse char-index\n",
        "reverse_input_char_index = dict((i, char) for char, i in input_token_index.items())\n",
        "reverse_target_char_index = dict((i, char) for char, i in target_token_index.items())\n",
        "\n",
        "#Need 3 array with 3-dimension(num_simple,max_seq_text,total_token)\n",
        "#Encoder-input,Decoder-input,Decoder-output\n",
        "encoder_input_data = np.zeros(\n",
        "    (len(input_texts),max_encoder_seq_length,num_encoder_tokens), #shape-3d\n",
        "    dtype=np.float32 #type float32\n",
        ")\n",
        "\n",
        "decoder_input_data = np.zeros(\n",
        "    (len(input_texts),max_decoder_seq_length,num_decoder_tokens), #shape-3d\n",
        "    dtype=np.float32 #type float32\n",
        ")\n",
        "\n",
        "decoder_output_data = np.zeros(\n",
        "    (len(input_texts),max_decoder_seq_length,num_decoder_tokens), #shape-3d\n",
        "    dtype=np.float32 #type float32\n",
        ")\n",
        "\n",
        "#zip eng sentance and chinese sentance(eng[0]Chinese[0],eng[1]Chinese[1]...etc)\n",
        "for i,(input_text,target_text) in enumerate(zip(input_texts,target_texts)):\n",
        "  #print(i,(input_text,target_text))\n",
        "  for t,char in enumerate(input_text):\n",
        "    #change the array of input data =>i:x,t:y,token:z to 1 = only set z-index to 1\n",
        "    encoder_input_data[i,t,input_token_index[char]] = 1\n",
        "  for t,char in enumerate(target_text):\n",
        "    #chagne the array of target data\n",
        "    #decoder_target_data is ahead decoder_input_data by one timestemp\n",
        "    decoder_input_data[i,t,target_token_index[char]] = 1\n",
        "    if t > 0:\n",
        "      #only affect t > 0 character,not include \\t \n",
        "      decoder_output_data[i,t-1,target_token_index[char]] = 1"
      ],
      "execution_count": 31,
      "outputs": []
    },
    {
      "cell_type": "code",
      "metadata": {
        "id": "F8KausnJTXjz"
      },
      "source": [
        "def trainModel():\n",
        "  #get model and predict model\n",
        "  model,encoder_model,decoder_model = createSeq2SeqModel()\n",
        "\n",
        "  #training the model and save\n",
        "  #Run traning and complie the model\n",
        "  model.compile(optimizer=\"rmsprop\",loss=\"categorical_crossentropy\")\n",
        "  #fit data to model and training\n",
        "  model.fit([encoder_input_data,decoder_input_data],decoder_output_data,batch_size=BATCH_SIZE,epochs=EPOCHS,validation_split=0.2)\n",
        "  #save our model\n",
        "  model.save(\"seq2seq.h5\")\n",
        "  encoder_model.save(\"encoder.h5\")\n",
        "  decoder_model.save(\"decoder.h5\")"
      ],
      "execution_count": 32,
      "outputs": []
    },
    {
      "cell_type": "code",
      "metadata": {
        "id": "94v4Q7OGTw72"
      },
      "source": [
        "def predictTxt(testDataList,correctResult):\n",
        "  #load the encoder model and decoder model\n",
        "  encoder_model = load_model(\"encoder.h5\",compile=False)\n",
        "  decoder_model = load_model(\"decoder.h5\",compile=False)\n",
        "  index = 0\n",
        "  for i in testDataList:\n",
        "    # input_seq=np.zeros((1,max_encoder_seq_length,num_encoder_tokens)) \n",
        "    current_seq_data = np.zeros((1,max_encoder_seq_length,num_encoder_tokens)) #1 sentence * max_seq_length(trainData) *num_encoder_tokens(trainData)\n",
        "    for t,char in enumerate(i):\n",
        "       current_seq_data[0,t,input_token_index[char]] = 1.0 #set current sentence character to 1 in array\n",
        "    \n",
        "    #predict the sentence\n",
        "    decoded_sentence = decode_sequence(current_seq_data,encoder_model,decoder_model)\n",
        "    print(\"English Sentence:\\n %s\"%(i))\n",
        "    print(\"Chinese Sentence(predict):\",(decoded_sentence))\n",
        "    print(\"Chinese Sentence(Correct):\",(correctResult[index]))\n",
        "    print(\"-------------------------------------------------\")\n",
        "    index+=1"
      ],
      "execution_count": 25,
      "outputs": []
    },
    {
      "cell_type": "code",
      "metadata": {
        "id": "uqN5GFeS0bLL"
      },
      "source": [
        "def createSeq2SeqModel():\n",
        "  #Define input tensor\n",
        "  encoder_inputs = Input(shape=(None,num_encoder_tokens)) #Shape 1*num_encoder_tokens\n",
        "  #encoder LSTM with units = 256 and return the last state\n",
        "  encoder_lstm = LSTM((LATENT_DIM),return_state=True)\n",
        "  #output of encoder lstm tensor,return state history and state current\n",
        "  encoder_outputs,state_h,state_c = encoder_lstm(encoder_inputs)\n",
        "  #keep states only\n",
        "  encoder_states = [state_h,state_c]\n",
        "\n",
        "  #need encoder states as decoder input\n",
        "  #define decoder lstm and tensor\n",
        "  decoder_inputs = Input(shape=(None,num_decoder_tokens)) #shape 1*num_decoder_tokens\n",
        "  #decoder_lstm ,set return everything\n",
        "  decoder_lstm = LSTM((LATENT_DIM),return_state=True,return_sequences=True)\n",
        "  #igore the internal state\n",
        "  decoder_outputs,_,_ = decoder_lstm(decoder_inputs,initial_state=encoder_states)\n",
        "  #creating the Dense for full connected layer\n",
        "  decoder_dense = Dense(num_decoder_tokens,activation=\"softmax\") #num_decoder_tokens * 1\n",
        "  decoder_outputs = decoder_dense(decoder_outputs) #passing lstm output to decoder dense\n",
        "\n",
        "  #Define the model\n",
        "  #input encoder input data and decoder input data and return decoder output data\n",
        "  model = Model([encoder_inputs,decoder_inputs],decoder_outputs)\n",
        "\n",
        "  #predict model\n",
        "  encoder_model = Model(encoder_inputs, encoder_states)\n",
        "  decoder_state_input_h = Input(shape=(LATENT_DIM,))\n",
        "  decoder_state_input_c = Input(shape=(LATENT_DIM,))\n",
        "  decoder_states_inputs = [decoder_state_input_h, decoder_state_input_c]\n",
        "  # lstm\n",
        "  decoder_outputs, state_h, state_c = decoder_lstm(decoder_inputs, initial_state=decoder_states_inputs)\n",
        "  decoder_states = [state_h, state_c]\n",
        "  decoder_outputs = decoder_dense(decoder_outputs)\n",
        "  decoder_model = Model([decoder_inputs] + decoder_states_inputs,[decoder_outputs] + decoder_states)\n",
        "\n",
        "  plot_model(model=model,show_shapes=True)\n",
        "  plot_model(model=encoder_model,show_shapes=True)\n",
        "  plot_model(model=decoder_model,show_shapes=True)\n",
        "  return model,encoder_model,decoder_model\n"
      ],
      "execution_count": 12,
      "outputs": []
    },
    {
      "cell_type": "code",
      "metadata": {
        "id": "R3rL8U39qo_4"
      },
      "source": [
        "def decode_sequence(input_seq,encoder_model,decoder_model):\n",
        "    # Encode the input as state vectors.\n",
        "    states_value = encoder_model.predict(input_seq)\n",
        "\n",
        "    # Generate empty target sequence of length 1.\n",
        "    target_seq = np.zeros((1, 1, num_decoder_tokens))\n",
        "    # Populate the first character of target sequence with the start character.\n",
        "    target_seq[0, 0, target_token_index['\\t']] = 1.\n",
        "\n",
        "    # Sampling loop for a batch of sequences\n",
        "    # (to simplify, here we assume a batch of size 1).\n",
        "    stop_condition = False\n",
        "    decoded_sentence = ''\n",
        "    while not stop_condition:\n",
        "        output_tokens, h, c = decoder_model.predict(\n",
        "            [target_seq] + states_value)\n",
        "\n",
        "        # Sample a token\n",
        "        sampled_token_index = np.argmax(output_tokens[0, -1, :])\n",
        "        sampled_char = reverse_target_char_index[sampled_token_index]\n",
        "        decoded_sentence += sampled_char\n",
        "\n",
        "        # Exit condition: either hit max length\n",
        "        # or find stop character.\n",
        "        if (sampled_char == '\\n' or\n",
        "           len(decoded_sentence) > max_decoder_seq_length):\n",
        "            stop_condition = True\n",
        "\n",
        "        # Update the target sequence (of length 1).\n",
        "        target_seq = np.zeros((1, 1, num_decoder_tokens))\n",
        "        target_seq[0, 0, sampled_token_index] = 1.\n",
        "\n",
        "        # Update states\n",
        "        states_value = [h, c]\n",
        "\n",
        "    return decoded_sentence\n"
      ],
      "execution_count": 19,
      "outputs": []
    },
    {
      "cell_type": "markdown",
      "metadata": {
        "id": "jJdoP1b1XYFv"
      },
      "source": [
        "# Training Model"
      ]
    },
    {
      "cell_type": "code",
      "metadata": {
        "id": "Fhv16rmStaZk"
      },
      "source": [
        "if __name__ == \"__main__\":\n",
        "  #train the model\n",
        "  trainModel()\n",
        "\n",
        "  #load test Data\n",
        "  testList = readData(\"translation2019zh_valid.json\")\n",
        "  txt_list = exportDataWithFormat(testList)\n",
        "  writeTotxt(txt_list,\"engChineseTest.txt\")\n",
        "  test_input,test_target,_,_ =readFormatTextToList(\"engChineseTest.txt\")\n",
        "\n",
        "  #predict\n",
        "  predictTxt(test_input[:100],test_target[:100])"
      ],
      "execution_count": null,
      "outputs": []
    },
    {
      "cell_type": "code",
      "metadata": {
        "colab": {
          "base_uri": "https://localhost:8080/"
        },
        "id": "kGIUZ0OCXabf",
        "outputId": "13eaa711-7eeb-4fe0-bdd9-a0c61a93ed34"
      },
      "source": [
        "trainModel()\n",
        "print(\"Done\")"
      ],
      "execution_count": 33,
      "outputs": [
        {
          "output_type": "stream",
          "text": [
            "Epoch 1/100\n",
            "63/63 [==============================] - 8s 81ms/step - loss: 4.4797 - val_loss: 4.3377\n",
            "Epoch 2/100\n",
            "63/63 [==============================] - 4s 62ms/step - loss: 4.2752 - val_loss: 4.3175\n",
            "Epoch 3/100\n",
            "63/63 [==============================] - 4s 63ms/step - loss: 4.2391 - val_loss: 4.3083\n",
            "Epoch 4/100\n",
            "63/63 [==============================] - 4s 62ms/step - loss: 4.2126 - val_loss: 4.3085\n",
            "Epoch 5/100\n",
            "63/63 [==============================] - 4s 63ms/step - loss: 4.1855 - val_loss: 4.2792\n",
            "Epoch 6/100\n",
            "63/63 [==============================] - 4s 62ms/step - loss: 4.1577 - val_loss: 4.2530\n",
            "Epoch 7/100\n",
            "63/63 [==============================] - 4s 62ms/step - loss: 4.1252 - val_loss: 4.2590\n",
            "Epoch 8/100\n",
            "63/63 [==============================] - 4s 61ms/step - loss: 4.0922 - val_loss: 4.2365\n",
            "Epoch 9/100\n",
            "63/63 [==============================] - 4s 62ms/step - loss: 4.0603 - val_loss: 4.2011\n",
            "Epoch 10/100\n",
            "63/63 [==============================] - 4s 62ms/step - loss: 4.0226 - val_loss: 4.2057\n",
            "Epoch 11/100\n",
            "63/63 [==============================] - 4s 62ms/step - loss: 3.9890 - val_loss: 4.1595\n",
            "Epoch 12/100\n",
            "63/63 [==============================] - 4s 62ms/step - loss: 3.9486 - val_loss: 4.1217\n",
            "Epoch 13/100\n",
            "63/63 [==============================] - 4s 61ms/step - loss: 3.9082 - val_loss: 4.1140\n",
            "Epoch 14/100\n",
            "63/63 [==============================] - 4s 61ms/step - loss: 3.8671 - val_loss: 4.0772\n",
            "Epoch 15/100\n",
            "63/63 [==============================] - 4s 62ms/step - loss: 3.8136 - val_loss: 4.1402\n",
            "Epoch 16/100\n",
            "63/63 [==============================] - 4s 63ms/step - loss: 3.7684 - val_loss: 4.0637\n",
            "Epoch 17/100\n",
            "63/63 [==============================] - 4s 61ms/step - loss: 3.7192 - val_loss: 3.9728\n",
            "Epoch 18/100\n",
            "63/63 [==============================] - 4s 62ms/step - loss: 3.6745 - val_loss: 3.9802\n",
            "Epoch 19/100\n",
            "63/63 [==============================] - 4s 63ms/step - loss: 3.6284 - val_loss: 3.9432\n",
            "Epoch 20/100\n",
            "63/63 [==============================] - 4s 63ms/step - loss: 3.5815 - val_loss: 3.9698\n",
            "Epoch 21/100\n",
            "63/63 [==============================] - 4s 62ms/step - loss: 3.5381 - val_loss: 4.0180\n",
            "Epoch 22/100\n",
            "63/63 [==============================] - 4s 63ms/step - loss: 3.4926 - val_loss: 3.8675\n",
            "Epoch 23/100\n",
            "63/63 [==============================] - 4s 62ms/step - loss: 3.4426 - val_loss: 3.8772\n",
            "Epoch 24/100\n",
            "63/63 [==============================] - 4s 63ms/step - loss: 3.3960 - val_loss: 3.9400\n",
            "Epoch 25/100\n",
            "63/63 [==============================] - 4s 63ms/step - loss: 3.3488 - val_loss: 3.8374\n",
            "Epoch 26/100\n",
            "63/63 [==============================] - 4s 63ms/step - loss: 3.2994 - val_loss: 3.7904\n",
            "Epoch 27/100\n",
            "63/63 [==============================] - 4s 62ms/step - loss: 3.2472 - val_loss: 3.7869\n",
            "Epoch 28/100\n",
            "63/63 [==============================] - 4s 63ms/step - loss: 3.2014 - val_loss: 3.7544\n",
            "Epoch 29/100\n",
            "63/63 [==============================] - 4s 63ms/step - loss: 3.1498 - val_loss: 3.7087\n",
            "Epoch 30/100\n",
            "63/63 [==============================] - 4s 63ms/step - loss: 3.1041 - val_loss: 3.7309\n",
            "Epoch 31/100\n",
            "63/63 [==============================] - 4s 61ms/step - loss: 3.0538 - val_loss: 3.7258\n",
            "Epoch 32/100\n",
            "63/63 [==============================] - 4s 62ms/step - loss: 3.0150 - val_loss: 3.6788\n",
            "Epoch 33/100\n",
            "63/63 [==============================] - 4s 63ms/step - loss: 2.9671 - val_loss: 3.6875\n",
            "Epoch 34/100\n",
            "63/63 [==============================] - 4s 64ms/step - loss: 2.9271 - val_loss: 3.6927\n",
            "Epoch 35/100\n",
            "63/63 [==============================] - 4s 62ms/step - loss: 2.8877 - val_loss: 3.7268\n",
            "Epoch 36/100\n",
            "63/63 [==============================] - 4s 63ms/step - loss: 2.8459 - val_loss: 3.6736\n",
            "Epoch 37/100\n",
            "63/63 [==============================] - 4s 62ms/step - loss: 2.8036 - val_loss: 3.6717\n",
            "Epoch 38/100\n",
            "63/63 [==============================] - 4s 63ms/step - loss: 2.7681 - val_loss: 3.6692\n",
            "Epoch 39/100\n",
            "63/63 [==============================] - 4s 62ms/step - loss: 2.7254 - val_loss: 3.6965\n",
            "Epoch 40/100\n",
            "63/63 [==============================] - 4s 63ms/step - loss: 2.6839 - val_loss: 3.7061\n",
            "Epoch 41/100\n",
            "63/63 [==============================] - 4s 63ms/step - loss: 2.6488 - val_loss: 3.6800\n",
            "Epoch 42/100\n",
            "63/63 [==============================] - 4s 62ms/step - loss: 2.6064 - val_loss: 3.7258\n",
            "Epoch 43/100\n",
            "63/63 [==============================] - 4s 63ms/step - loss: 2.5735 - val_loss: 3.7310\n",
            "Epoch 44/100\n",
            "63/63 [==============================] - 4s 61ms/step - loss: 2.5290 - val_loss: 3.7198\n",
            "Epoch 45/100\n",
            "63/63 [==============================] - 4s 62ms/step - loss: 2.4949 - val_loss: 3.7016\n",
            "Epoch 46/100\n",
            "63/63 [==============================] - 4s 63ms/step - loss: 2.4551 - val_loss: 3.7423\n",
            "Epoch 47/100\n",
            "63/63 [==============================] - 4s 64ms/step - loss: 2.4146 - val_loss: 3.7478\n",
            "Epoch 48/100\n",
            "63/63 [==============================] - 4s 61ms/step - loss: 2.3779 - val_loss: 3.7511\n",
            "Epoch 49/100\n",
            "63/63 [==============================] - 4s 61ms/step - loss: 2.3389 - val_loss: 3.7334\n",
            "Epoch 50/100\n",
            "63/63 [==============================] - 4s 63ms/step - loss: 2.2999 - val_loss: 3.7446\n",
            "Epoch 51/100\n",
            "63/63 [==============================] - 4s 62ms/step - loss: 2.2561 - val_loss: 3.7740\n",
            "Epoch 52/100\n",
            "63/63 [==============================] - 4s 63ms/step - loss: 2.2201 - val_loss: 3.7642\n",
            "Epoch 53/100\n",
            "63/63 [==============================] - 4s 63ms/step - loss: 2.1811 - val_loss: 3.8060\n",
            "Epoch 54/100\n",
            "63/63 [==============================] - 4s 62ms/step - loss: 2.1433 - val_loss: 3.7943\n",
            "Epoch 55/100\n",
            "63/63 [==============================] - 4s 62ms/step - loss: 2.1084 - val_loss: 3.7998\n",
            "Epoch 56/100\n",
            "63/63 [==============================] - 4s 62ms/step - loss: 2.0698 - val_loss: 3.8151\n",
            "Epoch 57/100\n",
            "63/63 [==============================] - 4s 64ms/step - loss: 2.0287 - val_loss: 3.8191\n",
            "Epoch 58/100\n",
            "63/63 [==============================] - 4s 65ms/step - loss: 1.9910 - val_loss: 3.8359\n",
            "Epoch 59/100\n",
            "63/63 [==============================] - 4s 64ms/step - loss: 1.9515 - val_loss: 3.8488\n",
            "Epoch 60/100\n",
            "63/63 [==============================] - 4s 63ms/step - loss: 1.9162 - val_loss: 3.8647\n",
            "Epoch 61/100\n",
            "63/63 [==============================] - 4s 64ms/step - loss: 1.8762 - val_loss: 3.8906\n",
            "Epoch 62/100\n",
            "63/63 [==============================] - 4s 63ms/step - loss: 1.8419 - val_loss: 3.8904\n",
            "Epoch 63/100\n",
            "63/63 [==============================] - 4s 63ms/step - loss: 1.8052 - val_loss: 3.9267\n",
            "Epoch 64/100\n",
            "63/63 [==============================] - 4s 64ms/step - loss: 1.7662 - val_loss: 3.9404\n",
            "Epoch 65/100\n",
            "63/63 [==============================] - 4s 62ms/step - loss: 1.7305 - val_loss: 3.9534\n",
            "Epoch 66/100\n",
            "63/63 [==============================] - 4s 62ms/step - loss: 1.6979 - val_loss: 3.9600\n",
            "Epoch 67/100\n",
            "63/63 [==============================] - 4s 63ms/step - loss: 1.6616 - val_loss: 3.9670\n",
            "Epoch 68/100\n",
            "63/63 [==============================] - 4s 63ms/step - loss: 1.6266 - val_loss: 4.0058\n",
            "Epoch 69/100\n",
            "63/63 [==============================] - 4s 63ms/step - loss: 1.5894 - val_loss: 4.0344\n",
            "Epoch 70/100\n",
            "63/63 [==============================] - 4s 63ms/step - loss: 1.5546 - val_loss: 4.0327\n",
            "Epoch 71/100\n",
            "63/63 [==============================] - 4s 64ms/step - loss: 1.5236 - val_loss: 4.0577\n",
            "Epoch 72/100\n",
            "63/63 [==============================] - 4s 63ms/step - loss: 1.4865 - val_loss: 4.1427\n",
            "Epoch 73/100\n",
            "63/63 [==============================] - 4s 62ms/step - loss: 1.4597 - val_loss: 4.1199\n",
            "Epoch 74/100\n",
            "63/63 [==============================] - 4s 62ms/step - loss: 1.4249 - val_loss: 4.1308\n",
            "Epoch 75/100\n",
            "63/63 [==============================] - 4s 64ms/step - loss: 1.3909 - val_loss: 4.1415\n",
            "Epoch 76/100\n",
            "63/63 [==============================] - 4s 63ms/step - loss: 1.3582 - val_loss: 4.1481\n",
            "Epoch 77/100\n",
            "63/63 [==============================] - 4s 62ms/step - loss: 1.3300 - val_loss: 4.1793\n",
            "Epoch 78/100\n",
            "63/63 [==============================] - 4s 61ms/step - loss: 1.2981 - val_loss: 4.2029\n",
            "Epoch 79/100\n",
            "63/63 [==============================] - 4s 62ms/step - loss: 1.2706 - val_loss: 4.2073\n",
            "Epoch 80/100\n",
            "63/63 [==============================] - 4s 64ms/step - loss: 1.2353 - val_loss: 4.2730\n",
            "Epoch 81/100\n",
            "63/63 [==============================] - 4s 63ms/step - loss: 1.2106 - val_loss: 4.2798\n",
            "Epoch 82/100\n",
            "63/63 [==============================] - 4s 62ms/step - loss: 1.1741 - val_loss: 4.2804\n",
            "Epoch 83/100\n",
            "63/63 [==============================] - 4s 63ms/step - loss: 1.1566 - val_loss: 4.3053\n",
            "Epoch 84/100\n",
            "63/63 [==============================] - 4s 64ms/step - loss: 1.1240 - val_loss: 4.3149\n",
            "Epoch 85/100\n",
            "63/63 [==============================] - 4s 63ms/step - loss: 1.0983 - val_loss: 4.4047\n",
            "Epoch 86/100\n",
            "63/63 [==============================] - 4s 63ms/step - loss: 1.0690 - val_loss: 4.3835\n",
            "Epoch 87/100\n",
            "63/63 [==============================] - 4s 63ms/step - loss: 1.0450 - val_loss: 4.4037\n",
            "Epoch 88/100\n",
            "63/63 [==============================] - 4s 64ms/step - loss: 1.0187 - val_loss: 4.4735\n",
            "Epoch 89/100\n",
            "63/63 [==============================] - 4s 64ms/step - loss: 0.9904 - val_loss: 4.4517\n",
            "Epoch 90/100\n",
            "63/63 [==============================] - 4s 63ms/step - loss: 0.9680 - val_loss: 4.5103\n",
            "Epoch 91/100\n",
            "63/63 [==============================] - 4s 63ms/step - loss: 0.9443 - val_loss: 4.5097\n",
            "Epoch 92/100\n",
            "63/63 [==============================] - 4s 63ms/step - loss: 0.9190 - val_loss: 4.5634\n",
            "Epoch 93/100\n",
            "63/63 [==============================] - 4s 63ms/step - loss: 0.8983 - val_loss: 4.5587\n",
            "Epoch 94/100\n",
            "63/63 [==============================] - 4s 63ms/step - loss: 0.8743 - val_loss: 4.5411\n",
            "Epoch 95/100\n",
            "63/63 [==============================] - 4s 63ms/step - loss: 0.8539 - val_loss: 4.5874\n",
            "Epoch 96/100\n",
            "63/63 [==============================] - 4s 63ms/step - loss: 0.8298 - val_loss: 4.6224\n",
            "Epoch 97/100\n",
            "63/63 [==============================] - 4s 63ms/step - loss: 0.8158 - val_loss: 4.6312\n",
            "Epoch 98/100\n",
            "63/63 [==============================] - 4s 63ms/step - loss: 0.7829 - val_loss: 4.6748\n",
            "Epoch 99/100\n",
            "63/63 [==============================] - 4s 64ms/step - loss: 0.7701 - val_loss: 4.7002\n",
            "Epoch 100/100\n",
            "63/63 [==============================] - 4s 63ms/step - loss: 0.7495 - val_loss: 4.7376\n",
            "WARNING:tensorflow:Compiled the loaded model, but the compiled metrics have yet to be built. `model.compile_metrics` will be empty until you train or evaluate the model.\n",
            "WARNING:tensorflow:Compiled the loaded model, but the compiled metrics have yet to be built. `model.compile_metrics` will be empty until you train or evaluate the model.\n",
            "Done\n"
          ],
          "name": "stdout"
        }
      ]
    },
    {
      "cell_type": "markdown",
      "metadata": {
        "id": "oug8OJPFscJd"
      },
      "source": [
        "# load tesing data"
      ]
    },
    {
      "cell_type": "code",
      "metadata": {
        "id": "3Q_MtEpZbWzX"
      },
      "source": [
        "#load test Data\n",
        "testList = readData(\"translation2019zh_valid.json\")\n",
        "txt_list = exportDataWithFormat(testList)\n",
        "writeTotxt(txt_list,\"engChineseTest.txt\")\n",
        "test_input,test_target,_,_ =readFormatTextToList(\"engChineseTest.txt\")"
      ],
      "execution_count": 21,
      "outputs": []
    },
    {
      "cell_type": "markdown",
      "metadata": {
        "id": "jKBeuM9ssi6u"
      },
      "source": [
        "# Predict (not correct yet)"
      ]
    },
    {
      "cell_type": "code",
      "metadata": {
        "colab": {
          "base_uri": "https://localhost:8080/"
        },
        "id": "71kZAx2iqPRL",
        "outputId": "f9c65a11-6b54-4cf7-cd12-afea961ceec1"
      },
      "source": [
        "#predict\n",
        "predictTxt(test_input[:10],test_target[:10])"
      ],
      "execution_count": 34,
      "outputs": [
        {
          "output_type": "stream",
          "text": [
            "English Sentence:\n",
            " But not often.\n",
            "Chinese Sentence(predict): 但是明的人。\n",
            "\n",
            "Chinese Sentence(Correct): \t但也不常常如此。\n",
            "\n",
            "-------------------------------------------------\n",
            "English Sentence:\n",
            " Things that burn.\n",
            "Chinese Sentence(predict): 有五十一根。\n",
            "\n",
            "Chinese Sentence(Correct): \t燃燒物。\n",
            "\n",
            "-------------------------------------------------\n",
            "English Sentence:\n",
            " These are desks.\n",
            "Chinese Sentence(predict): 有些是選影。\n",
            "\n",
            "Chinese Sentence(Correct): \t這些是桌子。\n",
            "\n",
            "-------------------------------------------------\n",
            "English Sentence:\n",
            " Throw her out!\n",
            "Chinese Sentence(predict): 那樣去去！\n",
            "\n",
            "Chinese Sentence(Correct): \t把她扔出去！\n",
            "\n",
            "-------------------------------------------------\n",
            "English Sentence:\n",
            " Hold her firm!\n",
            "Chinese Sentence(predict): 他猛這是的子！\n",
            "\n",
            "Chinese Sentence(Correct): \t抱緊她！\n",
            "\n",
            "-------------------------------------------------\n",
            "English Sentence:\n",
            " Success waits on efforts.\n",
            "Chinese Sentence(predict): 先生活在作漂呀！\n",
            "\n",
            "Chinese Sentence(Correct): \t成功在於努力。\n",
            "\n",
            "-------------------------------------------------\n",
            "English Sentence:\n",
            " Avoid impulse buys.\n",
            "Chinese Sentence(predict): 避免吃到她美童。\n",
            "\n",
            "Chinese Sentence(Correct): \t切忌衝動購物。\n",
            "\n",
            "-------------------------------------------------\n",
            "English Sentence:\n",
            " This is my toy gyro.\n",
            "Chinese Sentence(predict): 這是我的小鉛子。\n",
            "\n",
            "Chinese Sentence(Correct): \t這是我的陀螺。\n",
            "\n",
            "-------------------------------------------------\n",
            "English Sentence:\n",
            " Love each other.\n",
            "Chinese Sentence(predict): 愛一個小女！\n",
            "\n",
            "Chinese Sentence(Correct): \t你們相親相愛吧。\n",
            "\n",
            "-------------------------------------------------\n",
            "English Sentence:\n",
            " I can read hand .\n",
            "Chinese Sentence(predict): 我可以進掃它。\n",
            "\n",
            "Chinese Sentence(Correct): \t我會看手相。\n",
            "\n",
            "-------------------------------------------------\n"
          ],
          "name": "stdout"
        }
      ]
    }
  ]
}