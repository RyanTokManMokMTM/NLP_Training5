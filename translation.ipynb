{
  "nbformat": 4,
  "nbformat_minor": 0,
  "metadata": {
    "colab": {
      "name": "translation.ipynb",
      "provenance": [],
      "authorship_tag": "ABX9TyP/4jb7QIlAxS128GFBbBM5",
      "include_colab_link": true
    },
    "kernelspec": {
      "name": "python3",
      "display_name": "Python 3"
    },
    "language_info": {
      "name": "python"
    }
  },
  "cells": [
    {
      "cell_type": "markdown",
      "metadata": {
        "id": "view-in-github",
        "colab_type": "text"
      },
      "source": [
        "<a href=\"https://colab.research.google.com/github/RyanTokManMokMTM/NLP_Training5/blob/main/translation.ipynb\" target=\"_parent\"><img src=\"https://colab.research.google.com/assets/colab-badge.svg\" alt=\"Open In Colab\"/></a>"
      ]
    },
    {
      "cell_type": "code",
      "metadata": {
        "id": "7fstp6BaW9Ri",
        "outputId": "fd9debe9-a67d-4038-badb-beabf4bf3803",
        "colab": {
          "base_uri": "https://localhost:8080/"
        }
      },
      "source": [
        "from keras.models import Model\n",
        "from keras.layers import Input, LSTM, Dense\n",
        "import numpy as np\n",
        "\n",
        "batch_size = 64  # Batch size for training.\n",
        "epochs = 100  # Number of epochs to train for.\n",
        "latent_dim = 256  # Latent dimensionality of the encoding space.\n",
        "num_samples = 4000  # Number of samples to train on.\n",
        "# Path to the data txt file on disk.\n",
        "data_path = 'engChinese.txt'\n",
        "\n",
        "# Vectorize the data.\n",
        "input_texts = []\n",
        "target_texts = []\n",
        "input_characters = set()\n",
        "target_characters = set()\n",
        "with open(data_path, 'r', encoding='utf-8') as f:\n",
        "    lines = f.read().split('\\n')\n",
        "for line in lines[: min(num_samples, len(lines) - 1)]:\n",
        "    input_text, target_text = line.split('\\t')\n",
        "    # We use \"tab\" as the \"start sequence\" character\n",
        "    # for the targets, and \"\\n\" as \"end sequence\" character.\n",
        "    target_text = '\\t' + target_text + '\\n'\n",
        "    input_texts.append(input_text)\n",
        "    target_texts.append(target_text)\n",
        "    for char in input_text:\n",
        "        if char not in input_characters:\n",
        "            input_characters.add(char)\n",
        "    for char in target_text:\n",
        "        if char not in target_characters:\n",
        "            target_characters.add(char)\n",
        "\n",
        "input_characters = sorted(list(input_characters))\n",
        "target_characters = sorted(list(target_characters))\n",
        "num_encoder_tokens = len(input_characters)\n",
        "num_decoder_tokens = len(target_characters)\n",
        "max_encoder_seq_length = max([len(txt) for txt in input_texts])\n",
        "max_decoder_seq_length = max([len(txt) for txt in target_texts])\n",
        "\n",
        "print('Number of samples:', len(input_texts))\n",
        "print('Number of unique input tokens:', num_encoder_tokens)\n",
        "print('Number of unique output tokens:', num_decoder_tokens)\n",
        "print('Max sequence length for inputs:', max_encoder_seq_length)\n",
        "print('Max sequence length for outputs:', max_decoder_seq_length)\n",
        "\n",
        "# mapping token to index， easily to vectors\n",
        "input_token_index = dict([(char, i) for i, char in enumerate(input_characters)])\n",
        "target_token_index = dict([(char, i) for i, char in enumerate(target_characters)])\n",
        "\n",
        "\n",
        "# np.zeros(shape, dtype, order)\n",
        "# shape is an tuple, in here 3D\n",
        "encoder_input_data = np.zeros(\n",
        "    (len(input_texts), max_encoder_seq_length, num_encoder_tokens),\n",
        "    dtype='float32')\n",
        "decoder_input_data = np.zeros(\n",
        "    (len(input_texts), max_decoder_seq_length, num_decoder_tokens),\n",
        "    dtype='float32')\n",
        "decoder_target_data = np.zeros(\n",
        "    (len(input_texts), max_decoder_seq_length, num_decoder_tokens),\n",
        "    dtype='float32')\n",
        "\n",
        "\n",
        "# input_texts contain all english sentences\n",
        "# output_texts contain all chinese sentences\n",
        "# zip('ABC','xyz') ==> Ax By Cz, looks like that\n",
        "# the aim is: vectorilize text, 3D\n",
        "for i, (input_text, target_text) in enumerate(zip(input_texts, target_texts)):\n",
        "    for t, char in enumerate(input_text):\n",
        "        # 3D vector only z-index has char its value equals 1.0\n",
        "        encoder_input_data[i, t, input_token_index[char]] = 1.\n",
        "    for t, char in enumerate(target_text):\n",
        "        # decoder_target_data is ahead of decoder_input_data by one timestep\n",
        "        decoder_input_data[i, t, target_token_index[char]] = 1.\n",
        "        if t > 0:\n",
        "            # decoder_target_data will be ahead by one timestep\n",
        "            # and will not include the start character.\n",
        "            # igone t=0 and start t=1, means \n",
        "            decoder_target_data[i, t - 1, target_token_index[char]] = 1.\n",
        "\n",
        "# ===========above: encoder-decoder model================\n",
        "\n",
        "\n",
        "# Define an input sequence and process it.\n",
        "# input prodocts keras tensor, to fit keras model!\n",
        "# 1x73 vector \n",
        "# encoder_inputs is a 1x73 tensor!\n",
        "encoder_inputs = Input(shape=(None, num_encoder_tokens))\n",
        "\n",
        "# units=256, return the last state in addition to the output\n",
        "encoder_lstm = LSTM((latent_dim), return_state=True)\n",
        "\n",
        "# LSTM(tensor) return output, state-history, state-current\n",
        "encoder_outputs, state_h, state_c = encoder_lstm(encoder_inputs)\n",
        "\n",
        "# We discard `encoder_outputs` and only keep the states.\n",
        "encoder_states = [state_h, state_c]\n",
        "\n",
        "# ============above: one RNN/LSTM input to output and state==============\n",
        "\n",
        "\n",
        "# Set up the decoder, using `encoder_states` as initial state.\n",
        "decoder_inputs = Input(shape=(None, num_decoder_tokens))\n",
        "\n",
        "# We set up our decoder to return full output sequences,\n",
        "# and to return internal states as well. We don't use the\n",
        "# return states in the training model, but we will use them in inference.\n",
        "decoder_lstm = LSTM((latent_dim), return_sequences=True, return_state=True)\n",
        "\n",
        "# obtain output\n",
        "decoder_outputs, _, _ = decoder_lstm(decoder_inputs,initial_state=encoder_states)\n",
        "\n",
        "# ============above: another RNN/LSTM decoder parts====================\n",
        "\n",
        "# dense 2580x1 units full connented layer\n",
        "decoder_dense = Dense(num_decoder_tokens, activation='softmax')\n",
        "\n",
        "# why let decoder_outputs go through dense ?\n",
        "decoder_outputs = decoder_dense(decoder_outputs)\n",
        "\n",
        "# Define the model that will turn, groups layers into an object \n",
        "# with training and inference features\n",
        "# `encoder_input_data` & `decoder_input_data` into `decoder_target_data`\n",
        "# model(input, output)\n",
        "model = Model([encoder_inputs, decoder_inputs], decoder_outputs)\n",
        "\n",
        "# Run training\n",
        "# compile -> configure model for training\n",
        "model.compile(optimizer='rmsprop', loss='categorical_crossentropy')\n",
        "# model optimizsm\n",
        "model.fit([encoder_input_data, decoder_input_data], \n",
        "          decoder_target_data,\n",
        "          batch_size=batch_size,\n",
        "          epochs=epochs,\n",
        "          validation_split=0.2)\n",
        "# Save model\n",
        "model.save('seq2seq.h5')\n",
        "\n",
        "# Next: inference mode (sampling).\n",
        "# Here's the drill:\n",
        "# 1) encode input and retrieve initial decoder state\n",
        "# 2) run one step of decoder with this initial state\n",
        "# and a \"start of sequence\" token as target.\n",
        "# Output will be the next target token\n",
        "# 3) Repeat with the current target token and current states\n",
        "\n",
        "# Define sampling models\n",
        "encoder_model = Model(encoder_inputs, encoder_states)\n",
        "# tensor 73x1\n",
        "decoder_state_input_h = Input(shape=(latent_dim,))\n",
        "# tensor 73x1\n",
        "decoder_state_input_c = Input(shape=(latent_dim,))\n",
        "# tensor 146x1\n",
        "decoder_states_inputs = [decoder_state_input_h, decoder_state_input_c]\n",
        "# lstm\n",
        "decoder_outputs, state_h, state_c = decoder_lstm(decoder_inputs, initial_state=decoder_states_inputs)\n",
        "# \n",
        "decoder_states = [state_h, state_c]\n",
        "# \n",
        "decoder_outputs = decoder_dense(decoder_outputs)\n",
        "# \n",
        "decoder_model = Model(\n",
        "    [decoder_inputs] + decoder_states_inputs,\n",
        "    [decoder_outputs] + decoder_states)\n",
        "\n",
        "# Reverse-lookup token index to decode sequences back to\n",
        "# something readable.\n",
        "reverse_input_char_index = dict(\n",
        "    (i, char) for char, i in input_token_index.items())\n",
        "reverse_target_char_index = dict(\n",
        "    (i, char) for char, i in target_token_index.items())\n",
        "\n",
        "\n",
        "def decode_sequence(input_seq):\n",
        "    # Encode the input as state vectors.\n",
        "    states_value = encoder_model.predict(input_seq)\n",
        "\n",
        "    # Generate empty target sequence of length 1.\n",
        "    target_seq = np.zeros((1, 1, num_decoder_tokens))\n",
        "    # Populate the first character of target sequence with the start character.\n",
        "    target_seq[0, 0, target_token_index['\\t']] = 1.\n",
        "    # this target_seq you can treat as initial state\n",
        "\n",
        "    # Sampling loop for a batch of sequences\n",
        "    # (to simplify, here we assume a batch of size 1).\n",
        "    stop_condition = False\n",
        "    decoded_sentence = ''\n",
        "    while not stop_condition:\n",
        "        output_tokens, h, c = decoder_model.predict([target_seq] + states_value)\n",
        "\n",
        "        # Sample a token\n",
        "        # argmax: Returns the indices of the maximum values along an axis\n",
        "        # just like find the most possible char\n",
        "        sampled_token_index = np.argmax(output_tokens[0, -1, :])\n",
        "        # find char using index\n",
        "        sampled_char = reverse_target_char_index[sampled_token_index]\n",
        "        # and append sentence\n",
        "        decoded_sentence += sampled_char\n",
        "\n",
        "        # Exit condition: either hit max length\n",
        "        # or find stop character.\n",
        "        if (sampled_char == '\\n' or len(decoded_sentence) > max_decoder_seq_length):\n",
        "            stop_condition = True\n",
        "\n",
        "        # Update the target sequence (of length 1).\n",
        "        # append then ?\n",
        "        # creating another new target_seq\n",
        "        # and this time assume sampled_token_index to 1.0\n",
        "        target_seq = np.zeros((1, 1, num_decoder_tokens))\n",
        "        target_seq[0, 0, sampled_token_index] = 1.\n",
        "\n",
        "        # Update states\n",
        "        # update states, frome the front parts\n",
        "        states_value = [h, c]\n",
        "\n",
        "    return decoded_sentence\n",
        "\n",
        "\n",
        "for seq_index in range(100,200):\n",
        "    # Take one sequence (part of the training set)\n",
        "    # for trying out decoding.\n",
        "    input_seq = encoder_input_data[seq_index: seq_index + 1]\n",
        "    decoded_sentence = decode_sequence(input_seq)\n",
        "    print('-')\n",
        "    print('Input sentence:', input_texts[seq_index])\n",
        "    print('Decoded sentence:', decoded_sentence)"
      ],
      "execution_count": null,
      "outputs": [
        {
          "output_type": "stream",
          "text": [
            "Number of samples: 4000\n",
            "Number of unique input tokens: 86\n",
            "Number of unique output tokens: 3023\n",
            "Max sequence length for inputs: 50\n",
            "Max sequence length for outputs: 42\n",
            "Epoch 1/100\n",
            "14/50 [=======>......................] - ETA: 55s - loss: 2.4166"
          ],
          "name": "stdout"
        }
      ]
    },
    {
      "cell_type": "code",
      "metadata": {
        "id": "RZ-aCxdFYgo6",
        "outputId": "ec537ce3-8ee0-4e82-d229-3701b13cd10c",
        "colab": {
          "base_uri": "https://localhost:8080/"
        }
      },
      "source": [
        "len(target_characters)"
      ],
      "execution_count": 77,
      "outputs": [
        {
          "output_type": "execute_result",
          "data": {
            "text/plain": [
              "3866"
            ]
          },
          "metadata": {},
          "execution_count": 77
        }
      ]
    },
    {
      "cell_type": "code",
      "metadata": {
        "id": "ahSWSl3eKKXa",
        "colab": {
          "base_uri": "https://localhost:8080/"
        },
        "outputId": "e7524513-0d5d-4649-8796-39e2126e5dfa"
      },
      "source": [
        "#install package\n",
        "!pip install opencc"
      ],
      "execution_count": 38,
      "outputs": [
        {
          "output_type": "stream",
          "text": [
            "Requirement already satisfied: opencc in /usr/local/lib/python3.7/dist-packages (1.1.2)\n"
          ],
          "name": "stdout"
        }
      ]
    },
    {
      "cell_type": "code",
      "metadata": {
        "colab": {
          "base_uri": "https://localhost:8080/"
        },
        "id": "RPS3wst0OjMv",
        "outputId": "5637324f-baf9-4336-a7f1-55cda39a7f26"
      },
      "source": [
        "from google.colab import drive\n",
        "drive.mount(\"gdrive\")"
      ],
      "execution_count": 39,
      "outputs": [
        {
          "output_type": "stream",
          "text": [
            "Drive already mounted at gdrive; to attempt to forcibly remount, call drive.mount(\"gdrive\", force_remount=True).\n"
          ],
          "name": "stdout"
        }
      ]
    },
    {
      "cell_type": "code",
      "metadata": {
        "colab": {
          "base_uri": "https://localhost:8080/"
        },
        "id": "hkF9KiaYVacP",
        "outputId": "b67d9bab-65f3-43e1-f595-1071e06dcc93"
      },
      "source": [
        "!unzip /content/gdrive/MyDrive/translation2019zh.zip"
      ],
      "execution_count": 40,
      "outputs": [
        {
          "output_type": "stream",
          "text": [
            "Archive:  /content/gdrive/MyDrive/translation2019zh.zip\n",
            "replace translation2019zh_train.json? [y]es, [n]o, [A]ll, [N]one, [r]ename: n\n",
            "replace translation2019zh_valid.json? [y]es, [n]o, [A]ll, [N]one, [r]ename: n\n"
          ],
          "name": "stdout"
        }
      ]
    },
    {
      "cell_type": "markdown",
      "metadata": {
        "id": "P__VVu6haZIC"
      },
      "source": [
        "# read json"
      ]
    },
    {
      "cell_type": "code",
      "metadata": {
        "id": "HZW3WNYjJ51q"
      },
      "source": [
        "def is_chinese(strs):\n",
        "    '''USED FOR CHECKING ENGLISH material incude chinese'''\n",
        "    for _char in strs:\n",
        "        if '\\u4e00' <= _char <= '\\u9fa5':\n",
        "            return True\n",
        "    return False\n",
        "\n",
        "def loadJson():\n"
      ],
      "execution_count": null,
      "outputs": []
    },
    {
      "cell_type": "code",
      "metadata": {
        "id": "gVuzOe2_J1QI"
      },
      "source": [
        "def is_chinese(strs):\n",
        "    for _char in strs:\n",
        "        if '\\u4e00' <= _char <= '\\u9fa5':\n",
        "            return True\n",
        "    return False"
      ],
      "execution_count": 37,
      "outputs": []
    },
    {
      "cell_type": "code",
      "metadata": {
        "id": "czqc_pYvO497"
      },
      "source": [
        "import string\n",
        "str_1 = \"ü\"\n",
        "punc = string.punctuation\n",
        "if str_1 in punc:\n",
        "    print('is punctuation')\n",
        "\n",
        "#  'ö',\n",
        "#  'ü',\n",
        "#  '–',\n",
        "#  '—',\n",
        "#  '‘',\n",
        "#  '’',\n",
        "#  '“',\n",
        "#  '”',\n",
        "#  '…',\n",
        "#  '℃',\n",
        "#  '。',\n",
        "#  '，'}\n"
      ],
      "execution_count": null,
      "outputs": []
    },
    {
      "cell_type": "code",
      "metadata": {
        "id": "6azpMrgta0mz"
      },
      "source": [
        "import json\n",
        "import opencc\n",
        "import re\n",
        "train_data = []\n",
        "\n",
        "x=1\n",
        "chineseCc = opencc.OpenCC('s2hk.json')\n",
        "with open(\"translation2019zh_train.json\",newline=\"\") as js:\n",
        "  for i in js:\n",
        "    data = json.loads(i)\n",
        "    if data[\"english\"].isascii() == False:\n",
        "      continue\n",
        "    if len(data[\"english\"].strip()) > 50:\n",
        "      continue\n",
        "    if len(data[\"chinese\"].strip()) > 40:\n",
        "      continue\n",
        "    data[\"english\"] = data[\"english\"].replace(\"\\\\\",\"\").strip()\n",
        "    data[\"chinese\"] = chineseCc.convert(data[\"chinese\"]).strip()\n",
        "    train_data.append(data)\n",
        "    if(x==20000):\n",
        "      break\n",
        "    x+=1\n",
        "  js.close()"
      ],
      "execution_count": 123,
      "outputs": []
    },
    {
      "cell_type": "code",
      "metadata": {
        "id": "xVinnORiXphr",
        "outputId": "17da309d-7efc-4925-ff9a-d426a620d8ae",
        "colab": {
          "base_uri": "https://localhost:8080/"
        }
      },
      "source": [
        "len(train_data)"
      ],
      "execution_count": 117,
      "outputs": [
        {
          "output_type": "execute_result",
          "data": {
            "text/plain": [
              "20000"
            ]
          },
          "metadata": {},
          "execution_count": 117
        }
      ]
    },
    {
      "cell_type": "code",
      "metadata": {
        "id": "oGW0o4M4Vat_"
      },
      "source": [
        "txt_list = []\n",
        "\n",
        "for data in train_data:\n",
        "  strs = \"%s\\t%s\"%(data[\"english\"],data[\"chinese\"])\n",
        "  txt_list.append(\"%s\\t%s\"%(data[\"english\"],data[\"chinese\"]))"
      ],
      "execution_count": 124,
      "outputs": []
    },
    {
      "cell_type": "code",
      "metadata": {
        "id": "zRuquMZgQ93h"
      },
      "source": [
        "#wirte file to txt\n",
        "with open(\"engChinese.txt\",\"w\",encoding=\"utf-8\") as f:\n",
        "  for data in txt_list:\n",
        "    f.write(data)\n",
        "    f.write(\"\\n\")"
      ],
      "execution_count": 125,
      "outputs": []
    },
    {
      "cell_type": "markdown",
      "metadata": {
        "id": "b1KY8N1AP5nA"
      },
      "source": [
        "# Creating the model :Seq2Seq"
      ]
    },
    {
      "cell_type": "code",
      "metadata": {
        "id": "Mb9ymTNlP845"
      },
      "source": [
        "from keras.models import Model\n",
        "from keras.layers import Input, LSTM,Dense\n",
        "import numpy as np\n",
        "\n",
        "BATCH_SIZE = 64\n",
        "EPOCHS = 200\n",
        "LATENT_DIM = 256\n",
        "NUM_SAMPLES = 10000\n",
        "#traning setting\n",
        "\n",
        "file_path = \"engChinese.txt\""
      ],
      "execution_count": 118,
      "outputs": []
    },
    {
      "cell_type": "code",
      "metadata": {
        "id": "6fA8qcsOS0AO"
      },
      "source": [
        "#Vetorize data\n",
        "input_texts = []\n",
        "target_texts = []\n",
        "input_chars = set()\n",
        "target_chars = set()\n",
        "\n",
        "with open(file_path,\"r\",encoding=\"utf-8\") as f:\n",
        "  lines = f.read().split(\"\\n\") #each line is split by \\n\n",
        "  for line in lines[:min(NUM_SAMPLES,len(lines)-1)]: #num_spaces or line is larger,else will out of range\n",
        "    input_text, target_text = line.split(\"\\t\") #left side of \\t is end ,right side is chinese\n",
        "    \n",
        "    #each chinese texts need to add \\t at the begining and \\n at the end of the text\n",
        "    target_text = \"\\t\" + target_text +\"\\n\"\n",
        "\n",
        "    #add to input and target list\n",
        "    input_texts.append(input_text)\n",
        "    target_texts.append(target_text)\n",
        "\n",
        "    #loopping the text to get all chars and make one-hot encoding later\n",
        "    for char in input_text: #for english\n",
        "      if char not in input_chars:\n",
        "        input_chars.add(char)\n",
        "\n",
        "    for char in target_text: # for chinese\n",
        "      if char not in target_chars:\n",
        "        target_chars.add(char)\n"
      ],
      "execution_count": 119,
      "outputs": []
    },
    {
      "cell_type": "code",
      "metadata": {
        "id": "CxJ8z1KbWdTS",
        "outputId": "0ebd7d05-e531-472c-aa29-83ea9eb66f45",
        "colab": {
          "base_uri": "https://localhost:8080/"
        }
      },
      "source": [
        "len(target_chars)"
      ],
      "execution_count": 120,
      "outputs": [
        {
          "output_type": "execute_result",
          "data": {
            "text/plain": [
              "3778"
            ]
          },
          "metadata": {},
          "execution_count": 120
        }
      ]
    },
    {
      "cell_type": "code",
      "metadata": {
        "id": "zxOUHw5wUynq",
        "colab": {
          "base_uri": "https://localhost:8080/"
        },
        "outputId": "3be2915c-d26a-4d6c-90ad-038f6685e298"
      },
      "source": [
        "#handling the data to generate some required info\n",
        "# sorting the chars \n",
        "input_chars = sorted(list(input_chars)) # according to Unicode\n",
        "target_chars = sorted(list(target_chars)) # according to Unicode\n",
        "\n",
        "#total chars of input and target\n",
        "num_encoder_tokens = len(input_chars)\n",
        "num_decoder_tokens = len(target_chars)\n",
        "\n",
        "#the maxinums sentance of input and target\n",
        "max_encoder_seq_length = max([len(txt) for txt in input_texts])\n",
        "max_decoder_seq_length = max([len(txt) for txt in target_texts])\n",
        "\n",
        "#log out the message for those info\n",
        "print(\"Num of sample\",len(input_texts))\n",
        "print(\"Num of unique input token\",num_encoder_tokens)\n",
        "print(\"Num of unique output token\",num_decoder_tokens)\n",
        "print(\"Max seq length of inputs\",max_encoder_seq_length)\n",
        "print(\"Max seq length of output\",max_decoder_seq_length)"
      ],
      "execution_count": 121,
      "outputs": [
        {
          "output_type": "stream",
          "text": [
            "Num of sample 10000\n",
            "Num of unique input token 88\n",
            "Num of unique output token 3778\n",
            "Max seq length of inputs 50\n",
            "Max seq length of output 50\n"
          ],
          "name": "stdout"
        }
      ]
    },
    {
      "cell_type": "code",
      "metadata": {
        "id": "S8nbiulnWpre"
      },
      "source": [
        "#Creating Encoder-LSTM\n",
        "\n",
        "#make each chars has an index\n",
        "input_token_index = dict([(char , i) for i ,char in enumerate(input_chars)]) # english token with index\n",
        "target_token_index = dict([(char , i) for i ,char in enumerate(target_chars)]) # chinese token with index\n",
        "\n",
        "#Need 3 array with 3-dimension(num_simple,max_seq_text,total_token)\n",
        "#Encoder-input,Decoder-input,Decoder-output\n",
        "encoder_input_data = np.zeros(\n",
        "    (len(input_texts),max_encoder_seq_length,num_encoder_tokens), #shape-3d\n",
        "    dtype=np.float32 #type float32\n",
        ")\n",
        "\n",
        "decoder_input_data = np.zeros(\n",
        "    (len(input_texts),max_decoder_seq_length,num_decoder_tokens), #shape-3d\n",
        "    dtype=np.float32 #type float32\n",
        ")\n",
        "\n",
        "decoder_output_data = np.zeros(\n",
        "    (len(input_texts),max_decoder_seq_length,num_decoder_tokens), #shape-3d\n",
        "    dtype=np.float32 #type float32\n",
        ")\n",
        "\n",
        "#zip eng sentance and chinese sentance(eng[0]Chinese[0],eng[1]Chinese[1]...etc)\n",
        "for i,(input_text,target_text) in enumerate(zip(input_texts,target_texts)):\n",
        "  #print(i,(input_text,target_text))\n",
        "  for t,char in enumerate(input_text):\n",
        "    #change the array of input data =>i:x,t:y,token:z to 1 = only set z-index to 1\n",
        "    encoder_input_data[i,t,input_token_index[char]] = 1\n",
        "  for t,char in enumerate(target_text):\n",
        "    #chagne the array of target data\n",
        "    #decoder_target_data is ahead decoder_input_data by one timestemp\n",
        "    decoder_input_data[i,t,target_token_index[char]] = 1\n",
        "    if t > 0:\n",
        "      #only affect t > 0 character\n",
        "      decoder_output_data[i,t-1,target_token_index[char]] = 1"
      ],
      "execution_count": null,
      "outputs": []
    },
    {
      "cell_type": "markdown",
      "metadata": {
        "id": "_HZP3I3yjBcm"
      },
      "source": [
        "# Encoder"
      ]
    },
    {
      "cell_type": "code",
      "metadata": {
        "id": "_ESTKbm-neIz"
      },
      "source": [
        "#Define input tensor\n",
        "encoder_inputs = Input(shape=(None,num_encoder_tokens)) #Shape 1*num_encoder_tokens\n",
        "\n",
        "#encoder LSTM with units = 256 and return the last state\n",
        "encoder_lstm = LSTM((LATENT_DIM),return_state=True)\n",
        "\n",
        "#output of encoder lstm tensor,return state history and state current\n",
        "encoder_outputs,state_h,state_c = encoder_lstm(encoder_inputs)\n",
        "\n",
        "#keep states only\n",
        "encoder_states = [state_h,state_c]"
      ],
      "execution_count": null,
      "outputs": []
    },
    {
      "cell_type": "markdown",
      "metadata": {
        "id": "tdpZ4X8yo0WC"
      },
      "source": [
        "# Decoder"
      ]
    },
    {
      "cell_type": "code",
      "metadata": {
        "id": "IOKC6JFMo2ZS"
      },
      "source": [
        "#need encoder states as decoder input\n",
        "#define decoder lstm and tensor\n",
        "decoder_inputs = Input(shape=(None,num_decoder_tokens)) #shape 1*num_decoder_tokens\n",
        "\n",
        "#decoder_lstm ,set return everything\n",
        "decoder_lstm = LSTM((LATENT_DIM),return_state=True,return_sequences=True)\n",
        "\n",
        "#igore the internal state\n",
        "decoder_outputs,_,_ = decoder_lstm(decoder_inputs)\n"
      ],
      "execution_count": null,
      "outputs": []
    },
    {
      "cell_type": "code",
      "metadata": {
        "id": "N5-Q_HOffG2R"
      },
      "source": [
        "#creating the Dense for full connected layer\n",
        "decoder_dense = Dense(num_decoder_tokens,activation=\"softmax\") #num_decoder_tokens * 1\n",
        "\n",
        "decoder_outputs = decoder_dense(decoder_outputs) #passing lstm output to decoder dense"
      ],
      "execution_count": null,
      "outputs": []
    },
    {
      "cell_type": "code",
      "metadata": {
        "id": "fwv-sVIwfgu4",
        "colab": {
          "base_uri": "https://localhost:8080/"
        },
        "outputId": "e58ddcec-3676-4465-e60e-21a11e75e4c6"
      },
      "source": [
        "#Define the model\n",
        "#input encoder input data and decoder input data and return decoder output data\n",
        "model = Model([encoder_inputs,decoder_inputs],decoder_outputs)\n",
        "\n",
        "#Run traning and complie the model\n",
        "model.compile(optimizer=\"rmsprop\",loss=\"categorical_crossentropy\")\n",
        "\n",
        "#fit data to model and training\n",
        "model.fit([encoder_input_data,decoder_input_data],decoder_output_data,batch_size=BATCH_SIZE,epochs=EPOCHS,validation_split=0.2)\n",
        "\n",
        "#save our model\n",
        "model.save(\"seq2seq.h5\")"
      ],
      "execution_count": null,
      "outputs": [
        {
          "output_type": "stream",
          "text": [
            "Epoch 1/200\n",
            "13/13 [==============================] - 39s 3s/step - loss: 2.2307 - val_loss: 2.1191\n",
            "Epoch 2/200\n",
            "13/13 [==============================] - 35s 3s/step - loss: 2.1114 - val_loss: 2.1015\n",
            "Epoch 3/200\n",
            "13/13 [==============================] - 35s 3s/step - loss: 2.0960 - val_loss: 2.0936\n",
            "Epoch 4/200\n",
            "13/13 [==============================] - 35s 3s/step - loss: 2.0877 - val_loss: 2.0870\n",
            "Epoch 5/200\n",
            "13/13 [==============================] - 35s 3s/step - loss: 2.0808 - val_loss: 2.0805\n",
            "Epoch 6/200\n",
            "13/13 [==============================] - 35s 3s/step - loss: 2.0761 - val_loss: 2.0783\n",
            "Epoch 7/200\n",
            "13/13 [==============================] - 35s 3s/step - loss: 2.0720 - val_loss: 2.0733\n",
            "Epoch 8/200\n",
            "13/13 [==============================] - 35s 3s/step - loss: 2.0683 - val_loss: 2.0724\n",
            "Epoch 9/200\n",
            "13/13 [==============================] - 35s 3s/step - loss: 2.0658 - val_loss: 2.0713\n",
            "Epoch 10/200\n",
            "13/13 [==============================] - 35s 3s/step - loss: 2.0642 - val_loss: 2.0707\n",
            "Epoch 11/200\n",
            "13/13 [==============================] - 35s 3s/step - loss: 2.0633 - val_loss: 2.0657\n",
            "Epoch 12/200\n",
            "13/13 [==============================] - 35s 3s/step - loss: 2.0610 - val_loss: 2.0685\n",
            "Epoch 13/200\n",
            "13/13 [==============================] - 35s 3s/step - loss: 2.0600 - val_loss: 2.0685\n",
            "Epoch 14/200\n",
            "13/13 [==============================] - 35s 3s/step - loss: 2.0602 - val_loss: 2.0678\n",
            "Epoch 15/200\n",
            "13/13 [==============================] - 35s 3s/step - loss: 2.0587 - val_loss: 2.0692\n",
            "Epoch 16/200\n",
            "13/13 [==============================] - 35s 3s/step - loss: 2.0583 - val_loss: 2.0685\n",
            "Epoch 17/200\n",
            "13/13 [==============================] - 35s 3s/step - loss: 2.0576 - val_loss: 2.0678\n",
            "Epoch 18/200\n",
            "13/13 [==============================] - 35s 3s/step - loss: 2.0574 - val_loss: 2.0687\n",
            "Epoch 19/200\n",
            "13/13 [==============================] - 35s 3s/step - loss: 2.0566 - val_loss: 2.0671\n",
            "Epoch 20/200\n",
            "13/13 [==============================] - 35s 3s/step - loss: 2.0560 - val_loss: 2.0668\n",
            "Epoch 21/200\n",
            "13/13 [==============================] - 36s 3s/step - loss: 2.0552 - val_loss: 2.0719\n",
            "Epoch 22/200\n",
            "13/13 [==============================] - 35s 3s/step - loss: 2.0559 - val_loss: 2.0704\n",
            "Epoch 23/200\n",
            "13/13 [==============================] - 35s 3s/step - loss: 2.0552 - val_loss: 2.0691\n",
            "Epoch 24/200\n",
            "13/13 [==============================] - 35s 3s/step - loss: 2.0545 - val_loss: 2.0706\n",
            "Epoch 25/200\n",
            "13/13 [==============================] - 35s 3s/step - loss: 2.0552 - val_loss: 2.0714\n",
            "Epoch 26/200\n",
            "13/13 [==============================] - 35s 3s/step - loss: 2.0553 - val_loss: 2.0679\n",
            "Epoch 27/200\n",
            "13/13 [==============================] - 35s 3s/step - loss: 2.0545 - val_loss: 2.0723\n",
            "Epoch 28/200\n",
            "13/13 [==============================] - 35s 3s/step - loss: 2.0545 - val_loss: 2.0716\n",
            "Epoch 29/200\n",
            "13/13 [==============================] - 35s 3s/step - loss: 2.0540 - val_loss: 2.0691\n",
            "Epoch 30/200\n",
            "13/13 [==============================] - 35s 3s/step - loss: 2.0530 - val_loss: 2.0720\n",
            "Epoch 31/200\n",
            "13/13 [==============================] - 35s 3s/step - loss: 2.0532 - val_loss: 2.0743\n",
            "Epoch 32/200\n",
            "11/13 [========================>.....] - ETA: 5s - loss: 2.0544"
          ],
          "name": "stdout"
        }
      ]
    },
    {
      "cell_type": "markdown",
      "metadata": {
        "id": "w8ntTSsDfGH5"
      },
      "source": [
        ""
      ]
    },
    {
      "cell_type": "code",
      "metadata": {
        "id": "xMq5mD7Pp81J",
        "colab": {
          "base_uri": "https://localhost:8080/"
        },
        "outputId": "aed16e1c-157d-45c0-e225-776d0ca00daa"
      },
      "source": [
        "#compile the model\n",
        "model.compile(optimizer=\"rmsprop\",loss=\"categorical_crossentropy\")\n",
        "\n",
        "#model optimizsm\n",
        "model.fit([encoder_input_dt,decoder_input_dt],decoder_output_dt,batch_size=64,epochs=100,validation_split=0.2)\n",
        "\n",
        "#save model\n",
        "model.save(\"seq2seq.h5\")"
      ],
      "execution_count": null,
      "outputs": [
        {
          "output_type": "stream",
          "text": [
            "Epoch 1/100\n",
            "2/2 [==============================] - 39s 15s/step - loss: 0.0000e+00 - val_loss: 0.0000e+00\n",
            "Epoch 2/100\n",
            "2/2 [==============================] - 33s 14s/step - loss: 0.0000e+00 - val_loss: 0.0000e+00\n",
            "Epoch 3/100\n",
            "2/2 [==============================] - 33s 14s/step - loss: 0.0000e+00 - val_loss: 0.0000e+00\n",
            "Epoch 4/100\n",
            "2/2 [==============================] - 32s 13s/step - loss: 0.0000e+00 - val_loss: 0.0000e+00\n",
            "Epoch 5/100\n",
            "2/2 [==============================] - 32s 14s/step - loss: 0.0000e+00 - val_loss: 0.0000e+00\n",
            "Epoch 6/100\n",
            "2/2 [==============================] - 32s 13s/step - loss: 0.0000e+00 - val_loss: 0.0000e+00\n",
            "Epoch 7/100\n",
            "2/2 [==============================] - 32s 14s/step - loss: 0.0000e+00 - val_loss: 0.0000e+00\n",
            "Epoch 8/100\n",
            "2/2 [==============================] - 32s 13s/step - loss: 0.0000e+00 - val_loss: 0.0000e+00\n",
            "Epoch 9/100\n"
          ],
          "name": "stdout"
        }
      ]
    }
  ]
}