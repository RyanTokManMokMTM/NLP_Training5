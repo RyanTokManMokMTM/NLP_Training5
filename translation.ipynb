{
  "nbformat": 4,
  "nbformat_minor": 0,
  "metadata": {
    "colab": {
      "name": "translation.ipynb",
      "provenance": [],
      "authorship_tag": "ABX9TyOk7ErKqZrCKpXlH6B+SZWK",
      "include_colab_link": true
    },
    "kernelspec": {
      "name": "python3",
      "display_name": "Python 3"
    },
    "language_info": {
      "name": "python"
    },
    "accelerator": "GPU"
  },
  "cells": [
    {
      "cell_type": "markdown",
      "metadata": {
        "id": "view-in-github",
        "colab_type": "text"
      },
      "source": [
        "<a href=\"https://colab.research.google.com/github/RyanTokManMokMTM/NLP_Training5/blob/main/translation.ipynb\" target=\"_parent\"><img src=\"https://colab.research.google.com/assets/colab-badge.svg\" alt=\"Open In Colab\"/></a>"
      ]
    },
    {
      "cell_type": "code",
      "metadata": {
        "id": "ahSWSl3eKKXa",
        "colab": {
          "base_uri": "https://localhost:8080/"
        },
        "outputId": "1ccc8b55-714a-486a-a4f5-686c66f6404b"
      },
      "source": [
        "#install package\n",
        "!pip install opencc"
      ],
      "execution_count": null,
      "outputs": [
        {
          "output_type": "stream",
          "text": [
            "Collecting opencc\n",
            "  Downloading OpenCC-1.1.2-cp37-cp37m-manylinux1_x86_64.whl (765 kB)\n",
            "\u001b[K     |████████████████████████████████| 765 kB 4.3 MB/s \n",
            "\u001b[?25hInstalling collected packages: opencc\n",
            "Successfully installed opencc-1.1.2\n"
          ],
          "name": "stdout"
        }
      ]
    },
    {
      "cell_type": "code",
      "metadata": {
        "id": "RPS3wst0OjMv"
      },
      "source": [
        "from google.colab import drive\n",
        "drive.mount(\"gdrive\")"
      ],
      "execution_count": null,
      "outputs": []
    },
    {
      "cell_type": "code",
      "metadata": {
        "colab": {
          "base_uri": "https://localhost:8080/"
        },
        "id": "hkF9KiaYVacP",
        "outputId": "e79a7d63-091d-49a6-a98e-309998565bf3"
      },
      "source": [
        "!unzip /content/gdrive/MyDrive/translation2019zh.zip"
      ],
      "execution_count": null,
      "outputs": [
        {
          "output_type": "stream",
          "text": [
            "Archive:  /content/gdrive/MyDrive/translation2019zh.zip\n",
            "  inflating: translation2019zh_train.json  \n",
            "  inflating: translation2019zh_valid.json  \n"
          ],
          "name": "stdout"
        }
      ]
    },
    {
      "cell_type": "markdown",
      "metadata": {
        "id": "P__VVu6haZIC"
      },
      "source": [
        "# read json"
      ]
    },
    {
      "cell_type": "code",
      "metadata": {
        "id": "gVuzOe2_J1QI"
      },
      "source": [
        "def is_chinese(strs):\n",
        "    for _char in strs:\n",
        "        if '\\u4e00' <= _char <= '\\u9fa5':\n",
        "            return True\n",
        "    return False"
      ],
      "execution_count": null,
      "outputs": []
    },
    {
      "cell_type": "code",
      "metadata": {
        "id": "6azpMrgta0mz"
      },
      "source": [
        "import json\n",
        "import opencc\n",
        "import re\n",
        "train_data = []\n",
        "\n",
        "x=1\n",
        "chineseCc = opencc.OpenCC('s2hk.json')\n",
        "with open(\"translation2019zh_train.json\",newline=\"\") as js:\n",
        "  for i in js:\n",
        "    data = json.loads(i)\n",
        "    if data[\"english\"].isascii() == False:\n",
        "      continue\n",
        "    if len(data[\"english\"].strip()) > 25:\n",
        "      continue\n",
        "    if len(data[\"chinese\"].strip()) > 8:\n",
        "      continue\n",
        "    data[\"english\"] = data[\"english\"].replace(\"\\\\\",\"\").strip()\n",
        "    data[\"chinese\"] = chineseCc.convert(data[\"chinese\"]).strip()\n",
        "    train_data.append(data)\n",
        "    if(x==20000):\n",
        "      break\n",
        "    x+=1\n",
        "  js.close()"
      ],
      "execution_count": null,
      "outputs": []
    },
    {
      "cell_type": "code",
      "metadata": {
        "id": "oGW0o4M4Vat_"
      },
      "source": [
        "txt_list = []\n",
        "\n",
        "for data in train_data:\n",
        "  strs = \"%s\\t%s\"%(data[\"english\"],data[\"chinese\"])\n",
        "  txt_list.append(\"%s\\t%s\"%(data[\"english\"],data[\"chinese\"]))"
      ],
      "execution_count": null,
      "outputs": []
    },
    {
      "cell_type": "code",
      "metadata": {
        "id": "zRuquMZgQ93h"
      },
      "source": [
        "#wirte file to txt\n",
        "with open(\"engChinese.txt\",\"w\",encoding=\"utf-8\") as f:\n",
        "  for data in txt_list:\n",
        "    f.write(data)\n",
        "    f.write(\"\\n\")"
      ],
      "execution_count": null,
      "outputs": []
    },
    {
      "cell_type": "markdown",
      "metadata": {
        "id": "b1KY8N1AP5nA"
      },
      "source": [
        "# Creating the model :Seq2Seq"
      ]
    },
    {
      "cell_type": "code",
      "metadata": {
        "id": "Mb9ymTNlP845"
      },
      "source": [
        "from keras.models import Model\n",
        "from keras.layers import Input, LSTM,Dense\n",
        "import numpy as np\n",
        "\n",
        "BATCH_SIZE = 64\n",
        "EPOCHS = 200\n",
        "LATENT_DIM = 256\n",
        "NUM_SAMPLES = 10000\n",
        "#traning setting\n",
        "\n",
        "file_path = \"engChinese.txt\""
      ],
      "execution_count": null,
      "outputs": []
    },
    {
      "cell_type": "code",
      "metadata": {
        "id": "6fA8qcsOS0AO"
      },
      "source": [
        "#Vetorize data\n",
        "input_texts = []\n",
        "target_texts = []\n",
        "input_chars = set()\n",
        "target_chars = set()\n",
        "\n",
        "with open(file_path,\"r\",encoding=\"utf-8\") as f:\n",
        "  lines = f.read().split(\"\\n\") #each line is split by \\n\n",
        "  for line in lines[:min(NUM_SAMPLES,len(lines)-1)]: #num_spaces or line is larger,else will out of range\n",
        "    input_text, target_text = line.split(\"\\t\") #left side of \\t is end ,right side is chinese\n",
        "    \n",
        "    #each chinese texts need to add \\t at the begining and \\n at the end of the text\n",
        "    target_text = \"\\t\" + target_text +\"\\n\"\n",
        "\n",
        "    #add to input and target list\n",
        "    input_texts.append(input_text)\n",
        "    target_texts.append(target_text)\n",
        "\n",
        "    #loopping the text to get all chars and make one-hot encoding later\n",
        "    for char in input_text: #for english\n",
        "      if char not in input_chars:\n",
        "        input_chars.add(char)\n",
        "\n",
        "    for char in target_text: # for chinese\n",
        "      if char not in target_chars:\n",
        "        target_chars.add(char)\n"
      ],
      "execution_count": null,
      "outputs": []
    },
    {
      "cell_type": "code",
      "metadata": {
        "colab": {
          "base_uri": "https://localhost:8080/"
        },
        "id": "CxJ8z1KbWdTS",
        "outputId": "7ccd2848-3d9a-489a-8d70-816564182e4c"
      },
      "source": [
        "len(target_chars)"
      ],
      "execution_count": null,
      "outputs": [
        {
          "output_type": "execute_result",
          "data": {
            "text/plain": [
              "3365"
            ]
          },
          "metadata": {},
          "execution_count": 47
        }
      ]
    },
    {
      "cell_type": "code",
      "metadata": {
        "id": "zxOUHw5wUynq",
        "colab": {
          "base_uri": "https://localhost:8080/"
        },
        "outputId": "8f7a2552-b34c-4dc6-9c41-89c79cc3ce56"
      },
      "source": [
        "#handling the data to generate some required info\n",
        "# sorting the chars \n",
        "input_chars = sorted(list(input_chars)) # according to Unicode\n",
        "target_chars = sorted(list(target_chars)) # according to Unicode\n",
        "\n",
        "#total chars of input and target\n",
        "num_encoder_tokens = len(input_chars)\n",
        "num_decoder_tokens = len(target_chars)\n",
        "\n",
        "#the maxinums sentance of input and target\n",
        "max_encoder_seq_length = max([len(txt) for txt in input_texts])\n",
        "max_decoder_seq_length = max([len(txt) for txt in target_texts])\n",
        "\n",
        "#log out the message for those info\n",
        "print(\"Num of sample\",len(input_texts))\n",
        "print(\"Num of unique input token\",num_encoder_tokens)\n",
        "print(\"Num of unique output token\",num_decoder_tokens)\n",
        "print(\"Max seq length of inputs\",max_encoder_seq_length)\n",
        "print(\"Max seq length of output\",max_decoder_seq_length)"
      ],
      "execution_count": null,
      "outputs": [
        {
          "output_type": "stream",
          "text": [
            "Num of sample 10000\n",
            "Num of unique input token 85\n",
            "Num of unique output token 3365\n",
            "Max seq length of inputs 25\n",
            "Max seq length of output 12\n"
          ],
          "name": "stdout"
        }
      ]
    },
    {
      "cell_type": "code",
      "metadata": {
        "id": "S8nbiulnWpre"
      },
      "source": [
        "#Creating Encoder-LSTM\n",
        "\n",
        "#make each chars has an index\n",
        "input_token_index = dict([(char , i) for i ,char in enumerate(input_chars)]) # english token with index\n",
        "target_token_index = dict([(char , i) for i ,char in enumerate(target_chars)]) # chinese token with index\n",
        "\n",
        "#Need 3 array with 3-dimension(num_simple,max_seq_text,total_token)\n",
        "#Encoder-input,Decoder-input,Decoder-output\n",
        "encoder_input_data = np.zeros(\n",
        "    (len(input_texts),max_encoder_seq_length,num_encoder_tokens), #shape-3d\n",
        "    dtype=np.float32 #type float32\n",
        ")\n",
        "\n",
        "decoder_input_data = np.zeros(\n",
        "    (len(input_texts),max_decoder_seq_length,num_decoder_tokens), #shape-3d\n",
        "    dtype=np.float32 #type float32\n",
        ")\n",
        "\n",
        "decoder_output_data = np.zeros(\n",
        "    (len(input_texts),max_decoder_seq_length,num_decoder_tokens), #shape-3d\n",
        "    dtype=np.float32 #type float32\n",
        ")\n",
        "\n",
        "#zip eng sentance and chinese sentance(eng[0]Chinese[0],eng[1]Chinese[1]...etc)\n",
        "for i,(input_text,target_text) in enumerate(zip(input_texts,target_texts)):\n",
        "  #print(i,(input_text,target_text))\n",
        "  for t,char in enumerate(input_text):\n",
        "    #change the array of input data =>i:x,t:y,token:z to 1 = only set z-index to 1\n",
        "    encoder_input_data[i,t,input_token_index[char]] = 1\n",
        "  for t,char in enumerate(target_text):\n",
        "    #chagne the array of target data\n",
        "    #decoder_target_data is ahead decoder_input_data by one timestemp\n",
        "    decoder_input_data[i,t,target_token_index[char]] = 1\n",
        "    if t > 0:\n",
        "      #only affect t > 0 character\n",
        "      decoder_output_data[i,t-1,target_token_index[char]] = 1"
      ],
      "execution_count": null,
      "outputs": []
    },
    {
      "cell_type": "markdown",
      "metadata": {
        "id": "_HZP3I3yjBcm"
      },
      "source": [
        "# Encoder"
      ]
    },
    {
      "cell_type": "code",
      "metadata": {
        "id": "_ESTKbm-neIz"
      },
      "source": [
        "#Define input tensor\n",
        "encoder_inputs = Input(shape=(None,num_encoder_tokens)) #Shape 1*num_encoder_tokens\n",
        "\n",
        "#encoder LSTM with units = 256 and return the last state\n",
        "encoder_lstm = LSTM((LATENT_DIM),return_state=True)\n",
        "\n",
        "#output of encoder lstm tensor,return state history and state current\n",
        "encoder_outputs,state_h,state_c = encoder_lstm(encoder_inputs)\n",
        "\n",
        "#keep states only\n",
        "encoder_states = [state_h,state_c]"
      ],
      "execution_count": null,
      "outputs": []
    },
    {
      "cell_type": "markdown",
      "metadata": {
        "id": "tdpZ4X8yo0WC"
      },
      "source": [
        "# Decoder"
      ]
    },
    {
      "cell_type": "code",
      "metadata": {
        "id": "IOKC6JFMo2ZS"
      },
      "source": [
        "#need encoder states as decoder input\n",
        "#define decoder lstm and tensor\n",
        "decoder_inputs = Input(shape=(None,num_decoder_tokens)) #shape 1*num_decoder_tokens\n",
        "\n",
        "#decoder_lstm ,set return everything\n",
        "decoder_lstm = LSTM((LATENT_DIM),return_state=True,return_sequences=True)\n",
        "\n",
        "#igore the internal state\n",
        "decoder_outputs,_,_ = decoder_lstm(decoder_inputs,initial_state=encoder_states)\n"
      ],
      "execution_count": null,
      "outputs": []
    },
    {
      "cell_type": "code",
      "metadata": {
        "id": "N5-Q_HOffG2R"
      },
      "source": [
        "#creating the Dense for full connected layer\n",
        "decoder_dense = Dense(num_decoder_tokens,activation=\"softmax\") #num_decoder_tokens * 1\n",
        "\n",
        "decoder_outputs = decoder_dense(decoder_outputs) #passing lstm output to decoder dense"
      ],
      "execution_count": null,
      "outputs": []
    },
    {
      "cell_type": "code",
      "metadata": {
        "id": "fwv-sVIwfgu4"
      },
      "source": [
        "#Define the model\n",
        "#input encoder input data and decoder input data and return decoder output data\n",
        "model = Model([encoder_inputs,decoder_inputs],decoder_outputs)\n",
        "\n",
        "#Run traning and complie the model\n",
        "model.compile(optimizer=\"rmsprop\",loss=\"categorical_crossentropy\")\n",
        "\n",
        "#fit data to model and training\n",
        "model.fit([encoder_input_data,decoder_input_data],decoder_output_data,batch_size=BATCH_SIZE,epochs=EPOCHS,validation_split=0.2)\n",
        "\n",
        "#save our model\n",
        "model.save(\"seq2seq.h5\")"
      ],
      "execution_count": null,
      "outputs": []
    },
    {
      "cell_type": "code",
      "metadata": {
        "id": "CQDYWXnYqbq6"
      },
      "source": [
        "# Define sampling models\n",
        "#inferencemode (sampling).\n",
        "encoder_model = Model(encoder_inputs, encoder_states)\n",
        "decoder_state_input_h = Input(shape=(latent_dim,))\n",
        "decoder_state_input_c = Input(shape=(latent_dim,))\n",
        "decoder_states_inputs = [decoder_state_input_h, decoder_state_input_c]\n",
        "# lstm\n",
        "decoder_outputs, state_h, state_c = decoder_lstm(decoder_inputs, initial_state=decoder_states_inputs)\n",
        "decoder_states = [state_h, state_c]\n",
        "decoder_outputs = decoder_dense(decoder_outputs)\n",
        "decoder_model = Model(\n",
        "    [decoder_inputs] + decoder_states_inputs,\n",
        "    [decoder_outputs] + decoder_states)"
      ],
      "execution_count": null,
      "outputs": []
    },
    {
      "cell_type": "code",
      "metadata": {
        "id": "Kn3LjebVqk15"
      },
      "source": [
        "#reverse char-index\n",
        "reverse_input_char_index = dict((i, char) for char, i in input_token_index.items())\n",
        "reverse_target_char_index = dict((i, char) for char, i in target_token_index.items())"
      ],
      "execution_count": null,
      "outputs": []
    },
    {
      "cell_type": "code",
      "metadata": {
        "id": "R3rL8U39qo_4"
      },
      "source": [
        "\n",
        "def decode_sequence(input_seq):\n",
        "    states_value = encoder_model.predict(input_seq)\n",
        "\n",
        "    target_seq = np.zeros((1, 1, num_decoder_tokens))\n",
        "    target_seq[0, 0, target_token_index['\\t']] = 1.\n",
        "\n",
        "    stop_condition = False\n",
        "    decoded_sentence = ''\n",
        "    while not stop_condition:\n",
        "        output_tokens, h, c = decoder_model.predict([target_seq] + states_value)\n",
        "        sampled_token_index = np.argmax(output_tokens[0, -1, :])\n",
        "        # find char using index\n",
        "        sampled_char = reverse_target_char_index[sampled_token_index]\n",
        "        # and append sentence\n",
        "        decoded_sentence += sampled_char\n",
        "\n",
        "        # Exit condition: either hit max length\n",
        "        # or find stop character.\n",
        "        if (sampled_char == '\\n' or len(decoded_sentence) > max_decoder_seq_length):\n",
        "            stop_condition = True\n",
        "\n",
        "        # Update the target sequence (of length 1).\n",
        "        target_seq = np.zeros((1, 1, num_decoder_tokens))\n",
        "        target_seq[0, 0, sampled_token_index] = 1.\n",
        "\n",
        "        # Update states\n",
        "        states_value = [h, c]\n",
        "\n",
        "    return decoded_sentence\n"
      ],
      "execution_count": null,
      "outputs": []
    },
    {
      "cell_type": "code",
      "metadata": {
        "id": "XPzcgj6dqo6_"
      },
      "source": [
        "for seq_index in range(100,200):\n",
        "    # Take one sequence (part of the training set)\n",
        "    # for trying out decoding.\n",
        "    input_seq = encoder_input_data[seq_index: seq_index + 1]\n",
        "    decoded_sentence = decode_sequence(input_seq)\n",
        "    print('-')\n",
        "    print('English:', input_texts[seq_index])\n",
        "    print('Translate(Chinese):', decoded_sentence)"
      ],
      "execution_count": null,
      "outputs": []
    }
  ]
}